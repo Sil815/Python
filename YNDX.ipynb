{
 "cells": [
  {
   "cell_type": "code",
   "execution_count": 69,
   "metadata": {},
   "outputs": [],
   "source": [
    "import cx_Oracle\n",
    "import os\n",
    "import pandas as pd\n",
    "import numpy as np\n",
    "#from datetime import datetime\n",
    "import matplotlib.pyplot as plt"
   ]
  },
  {
   "cell_type": "code",
   "execution_count": 70,
   "metadata": {},
   "outputs": [],
   "source": [
    "LOCATION_ORACLE = r\"D:\\Downloads\\instantclient_19_9\"\n",
    "os.environ[\"PATH\"] = LOCATION_ORACLE + \";\" + os.environ[\"PATH\"]"
   ]
  },
  {
   "cell_type": "code",
   "execution_count": 71,
   "metadata": {},
   "outputs": [],
   "source": [
    "conn = cx_Oracle.connect(\"patio/3miostk@//localhost:1521/XE\")\n",
    "cursor = conn.cursor()"
   ]
  },
  {
   "cell_type": "code",
   "execution_count": 72,
   "metadata": {},
   "outputs": [
    {
     "name": "stdout",
     "output_type": "stream",
     "text": [
      "            Date Close/Last    Volume    Open    High     Low\n",
      "0     12/24/2020     $67.65    370633  $68.18  $68.29  $67.17\n",
      "1     12/23/2020     $67.69    822039  $67.73  $68.77  $67.64\n",
      "2     12/22/2020     $67.11   1002761  $67.28  $67.44   $66.3\n",
      "3     12/21/2020     $67.09   1789127  $67.76  $67.83  $66.73\n",
      "4     12/18/2020     $69.27   1771747  $70.65  $70.79  $69.13\n",
      "...          ...        ...       ...     ...     ...     ...\n",
      "2410  05/31/2011     $33.45   3979702  $34.95  $35.37  $32.61\n",
      "2411  05/27/2011     $34.45   2005954  $34.75     $35     $34\n",
      "2412  05/26/2011     $34.77   4415791  $34.45  $35.45     $34\n",
      "2413  05/25/2011        $35  11750020  $37.75   $37.9   $34.4\n",
      "2414  05/24/2011     $38.84  70156130     $35  $42.01  $30.55\n",
      "\n",
      "[2415 rows x 6 columns]\n"
     ]
    },
    {
     "name": "stderr",
     "output_type": "stream",
     "text": [
      "c:\\users\\mi\\appdata\\local\\programs\\python\\python37-32\\lib\\site-packages\\ipykernel_launcher.py:1: ParserWarning: Falling back to the 'python' engine because the 'c' engine does not support regex separators (separators > 1 char and different from '\\s+' are interpreted as regex); you can avoid this warning by specifying engine='python'.\n",
      "  \"\"\"Entry point for launching an IPython kernel.\n"
     ]
    }
   ],
   "source": [
    "df = pd.read_csv('D:\\IT-магистратура МАИ\\семестр_1\\Python\\HistoricalQuotes.csv',header = 0, delimiter = ', ')\n",
    "print(df)\n",
    "SQL_string = '''INSERT INTO YNDX_NASDAQ\n",
    "                                   (\"Date\",\n",
    "                                    \"Close_Last\",\n",
    "                                    \"Volume\",\n",
    "                                    \"Open\",\n",
    "                                    \"High\",\n",
    "                                    \"Low\")\n",
    "                             VALUES\n",
    "                              (:p_Date, :p_Close_Last, :p_Volume, :p_Open, :p_High, :p_Low)                            \n",
    "                             '''"
   ]
  },
  {
   "cell_type": "code",
   "execution_count": 73,
   "metadata": {},
   "outputs": [],
   "source": [
    "df[['Close/Last','Open','High','Low']] = df[['Close/Last','Open','High','Low']].applymap(lambda x: x[1:])\n",
    "df= df.astype({'Date': 'datetime64', 'Close/Last': float,'Open': float,'High': float,'Low': float})"
   ]
  },
  {
   "cell_type": "code",
   "execution_count": 74,
   "metadata": {},
   "outputs": [],
   "source": [
    "#t1 = [tuple(x) for x in df.values]\n",
    "#print(t1[0])\n",
    "#cursor.executemany(SQL_string,  t1) "
   ]
  },
  {
   "cell_type": "code",
   "execution_count": 75,
   "metadata": {},
   "outputs": [
    {
     "name": "stdout",
     "output_type": "stream",
     "text": [
      "[Timestamp('2020-12-24 00:00:00') 67.65 370633 68.18 68.29 67.17]\n"
     ]
    },
    {
     "ename": "IntegrityError",
     "evalue": "ORA-00001: нарушено ограничение уникальности (PATIO.SYS_C007766)",
     "output_type": "error",
     "traceback": [
      "\u001b[1;31m---------------------------------------------------------------------------\u001b[0m",
      "\u001b[1;31mIntegrityError\u001b[0m                            Traceback (most recent call last)",
      "\u001b[1;32m<ipython-input-75-25f5307c273c>\u001b[0m in \u001b[0;36m<module>\u001b[1;34m\u001b[0m\n\u001b[0;32m      1\u001b[0m \u001b[1;32mfor\u001b[0m \u001b[0mx\u001b[0m \u001b[1;32min\u001b[0m \u001b[0mdf\u001b[0m\u001b[1;33m.\u001b[0m\u001b[0mvalues\u001b[0m\u001b[1;33m:\u001b[0m\u001b[1;33m\u001b[0m\u001b[1;33m\u001b[0m\u001b[0m\n\u001b[0;32m      2\u001b[0m     \u001b[0mprint\u001b[0m\u001b[1;33m(\u001b[0m\u001b[0mx\u001b[0m\u001b[1;33m)\u001b[0m\u001b[1;33m\u001b[0m\u001b[1;33m\u001b[0m\u001b[0m\n\u001b[1;32m----> 3\u001b[1;33m     \u001b[0mcursor\u001b[0m\u001b[1;33m.\u001b[0m\u001b[0mexecute\u001b[0m\u001b[1;33m(\u001b[0m\u001b[0mSQL_string\u001b[0m\u001b[1;33m,\u001b[0m \u001b[0mx\u001b[0m\u001b[1;33m)\u001b[0m\u001b[1;33m\u001b[0m\u001b[1;33m\u001b[0m\u001b[0m\n\u001b[0m\u001b[0;32m      4\u001b[0m \u001b[0mconn\u001b[0m\u001b[1;33m.\u001b[0m\u001b[0mcommit\u001b[0m\u001b[1;33m(\u001b[0m\u001b[1;33m)\u001b[0m     \u001b[1;31m#фиксация транзакции\u001b[0m\u001b[1;33m\u001b[0m\u001b[1;33m\u001b[0m\u001b[0m\n",
      "\u001b[1;31mIntegrityError\u001b[0m: ORA-00001: нарушено ограничение уникальности (PATIO.SYS_C007766)"
     ]
    }
   ],
   "source": [
    "for x in df.values:\n",
    "    print(x)\n",
    "    cursor.execute(SQL_string, x)\n",
    "conn.commit()     #фиксация транзакции"
   ]
  },
  {
   "cell_type": "code",
   "execution_count": 122,
   "metadata": {},
   "outputs": [
    {
     "data": {
      "text/html": [
       "<div>\n",
       "<style scoped>\n",
       "    .dataframe tbody tr th:only-of-type {\n",
       "        vertical-align: middle;\n",
       "    }\n",
       "\n",
       "    .dataframe tbody tr th {\n",
       "        vertical-align: top;\n",
       "    }\n",
       "\n",
       "    .dataframe thead th {\n",
       "        text-align: right;\n",
       "    }\n",
       "</style>\n",
       "<table border=\"1\" class=\"dataframe\">\n",
       "  <thead>\n",
       "    <tr style=\"text-align: right;\">\n",
       "      <th></th>\n",
       "      <th>Date</th>\n",
       "      <th>Close/Last</th>\n",
       "      <th>Volume</th>\n",
       "      <th>Open</th>\n",
       "      <th>High</th>\n",
       "      <th>Low</th>\n",
       "    </tr>\n",
       "  </thead>\n",
       "  <tbody>\n",
       "    <tr>\n",
       "      <th>0</th>\n",
       "      <td>2017-09-06</td>\n",
       "      <td>32.10</td>\n",
       "      <td>3723054</td>\n",
       "      <td>32.34</td>\n",
       "      <td>32.76</td>\n",
       "      <td>31.75</td>\n",
       "    </tr>\n",
       "    <tr>\n",
       "      <th>1</th>\n",
       "      <td>2017-09-05</td>\n",
       "      <td>32.35</td>\n",
       "      <td>4757532</td>\n",
       "      <td>32.21</td>\n",
       "      <td>32.88</td>\n",
       "      <td>32.08</td>\n",
       "    </tr>\n",
       "    <tr>\n",
       "      <th>2</th>\n",
       "      <td>2017-09-01</td>\n",
       "      <td>32.21</td>\n",
       "      <td>7718767</td>\n",
       "      <td>30.30</td>\n",
       "      <td>32.85</td>\n",
       "      <td>30.29</td>\n",
       "    </tr>\n",
       "    <tr>\n",
       "      <th>3</th>\n",
       "      <td>2017-08-31</td>\n",
       "      <td>30.01</td>\n",
       "      <td>4852648</td>\n",
       "      <td>30.21</td>\n",
       "      <td>30.46</td>\n",
       "      <td>29.93</td>\n",
       "    </tr>\n",
       "    <tr>\n",
       "      <th>4</th>\n",
       "      <td>2017-08-30</td>\n",
       "      <td>29.85</td>\n",
       "      <td>3910855</td>\n",
       "      <td>29.63</td>\n",
       "      <td>30.08</td>\n",
       "      <td>29.31</td>\n",
       "    </tr>\n",
       "    <tr>\n",
       "      <th>...</th>\n",
       "      <td>...</td>\n",
       "      <td>...</td>\n",
       "      <td>...</td>\n",
       "      <td>...</td>\n",
       "      <td>...</td>\n",
       "      <td>...</td>\n",
       "    </tr>\n",
       "    <tr>\n",
       "      <th>2410</th>\n",
       "      <td>2014-05-27</td>\n",
       "      <td>32.73</td>\n",
       "      <td>4629751</td>\n",
       "      <td>31.85</td>\n",
       "      <td>32.75</td>\n",
       "      <td>31.67</td>\n",
       "    </tr>\n",
       "    <tr>\n",
       "      <th>2411</th>\n",
       "      <td>2014-05-23</td>\n",
       "      <td>32.21</td>\n",
       "      <td>6143155</td>\n",
       "      <td>31.00</td>\n",
       "      <td>32.31</td>\n",
       "      <td>30.88</td>\n",
       "    </tr>\n",
       "    <tr>\n",
       "      <th>2412</th>\n",
       "      <td>2014-05-22</td>\n",
       "      <td>32.10</td>\n",
       "      <td>4557433</td>\n",
       "      <td>31.62</td>\n",
       "      <td>32.24</td>\n",
       "      <td>31.50</td>\n",
       "    </tr>\n",
       "    <tr>\n",
       "      <th>2413</th>\n",
       "      <td>2014-05-21</td>\n",
       "      <td>31.60</td>\n",
       "      <td>3519641</td>\n",
       "      <td>30.85</td>\n",
       "      <td>31.61</td>\n",
       "      <td>30.70</td>\n",
       "    </tr>\n",
       "    <tr>\n",
       "      <th>2414</th>\n",
       "      <td>2014-05-20</td>\n",
       "      <td>30.85</td>\n",
       "      <td>3177217</td>\n",
       "      <td>30.64</td>\n",
       "      <td>31.20</td>\n",
       "      <td>30.49</td>\n",
       "    </tr>\n",
       "  </tbody>\n",
       "</table>\n",
       "<p>2415 rows × 6 columns</p>\n",
       "</div>"
      ],
      "text/plain": [
       "           Date  Close/Last   Volume   Open   High    Low\n",
       "0    2017-09-06       32.10  3723054  32.34  32.76  31.75\n",
       "1    2017-09-05       32.35  4757532  32.21  32.88  32.08\n",
       "2    2017-09-01       32.21  7718767  30.30  32.85  30.29\n",
       "3    2017-08-31       30.01  4852648  30.21  30.46  29.93\n",
       "4    2017-08-30       29.85  3910855  29.63  30.08  29.31\n",
       "...         ...         ...      ...    ...    ...    ...\n",
       "2410 2014-05-27       32.73  4629751  31.85  32.75  31.67\n",
       "2411 2014-05-23       32.21  6143155  31.00  32.31  30.88\n",
       "2412 2014-05-22       32.10  4557433  31.62  32.24  31.50\n",
       "2413 2014-05-21       31.60  3519641  30.85  31.61  30.70\n",
       "2414 2014-05-20       30.85  3177217  30.64  31.20  30.49\n",
       "\n",
       "[2415 rows x 6 columns]"
      ]
     },
     "execution_count": 122,
     "metadata": {},
     "output_type": "execute_result"
    }
   ],
   "source": [
    "cursor.execute('''SELECT * FROM YNDX_NASDAQ''')\n",
    "result = cursor.fetchall()\n",
    "df_o = pd.DataFrame(result, columns = ['Date','Close/Last', 'Volume', 'Open','High','Low'])\n",
    "df_o\n"
   ]
  },
  {
   "cell_type": "code",
   "execution_count": 111,
   "metadata": {},
   "outputs": [],
   "source": [
    "def correct_date():\n",
    "    while True:\n",
    "        try:\n",
    "            input_string = input()\n",
    "            if '' == input_string:\n",
    "                print('Введена пустая строка')\n",
    "                continue        \n",
    "            date = pd.to_datetime(input_string, dayfirst = True, yearfirst = False)\n",
    "            \n",
    "            return date\n",
    "            break\n",
    "        except :\n",
    "            print('Дата введена некорректно')"
   ]
  },
  {
   "cell_type": "code",
   "execution_count": 78,
   "metadata": {},
   "outputs": [],
   "source": [
    "#date = pd.to_datetime('12.04.12')\n",
    "#print(date)\n",
    "#date.strftime('%d.%m.%Y')\n"
   ]
  },
  {
   "cell_type": "code",
   "execution_count": 114,
   "metadata": {},
   "outputs": [
    {
     "name": "stdout",
     "output_type": "stream",
     "text": [
      "01.01.20\n",
      "Дата 1: 01.01.2020\n"
     ]
    }
   ],
   "source": [
    "date_one = correct_date()\n",
    "print('Дата 1: '+ date_one.strftime('%d.%m.%Y'))"
   ]
  },
  {
   "cell_type": "code",
   "execution_count": 115,
   "metadata": {},
   "outputs": [
    {
     "name": "stdout",
     "output_type": "stream",
     "text": [
      "01.12.17\n",
      "Дата 2 :01.12.2017\n"
     ]
    }
   ],
   "source": [
    "date_two = correct_date()\n",
    "print('Дата 2 :'+ str(date_two.strftime('%d.%m.%Y')))"
   ]
  },
  {
   "cell_type": "code",
   "execution_count": 117,
   "metadata": {},
   "outputs": [
    {
     "name": "stdout",
     "output_type": "stream",
     "text": [
      "2017-12-01 00:00:00 2020-01-01 00:00:00\n"
     ]
    }
   ],
   "source": [
    "if (date_one > date_two):\n",
    "    date_one, date_two = date_two, date_one\n",
    "print(date_one, date_two)"
   ]
  },
  {
   "cell_type": "code",
   "execution_count": 123,
   "metadata": {},
   "outputs": [
    {
     "name": "stdout",
     "output_type": "stream",
     "text": [
      "          Date  Close/Last   Volume   Open   High    Low\n",
      "457 2019-12-31       43.49   562094  43.18  43.62  43.17\n",
      "458 2019-12-30       43.44   893431  43.93  43.97  43.08\n",
      "459 2019-12-27       43.90  1265778  44.10  44.28  43.66\n",
      "460 2019-12-26       43.73   748142  43.63  43.89  43.44\n",
      "461 2019-12-24       43.67   451237  43.55  43.69  43.23\n",
      "..         ...         ...      ...    ...    ...    ...\n",
      "974 2017-12-08       32.89  1219597  33.31  33.35  32.77\n",
      "975 2017-12-07       33.02  1495999  32.36  33.19  32.26\n",
      "976 2017-12-06       32.62  2428118  32.22  32.95  31.94\n",
      "977 2017-12-05       32.37  2795908  32.18  32.90  31.75\n",
      "978 2017-12-04       32.03  3801397  32.77  32.95  31.91\n",
      "\n",
      "[522 rows x 6 columns]\n"
     ]
    }
   ],
   "source": [
    "segment = df_o[(date_one < df_o['Date']) & (df_o['Date'] < date_two)]\n",
    "print(segment)"
   ]
  },
  {
   "cell_type": "code",
   "execution_count": 124,
   "metadata": {},
   "outputs": [
    {
     "data": {
      "image/png": "[encoded data removed]",
      "text/plain": [
       "<Figure size 720x432 with 1 Axes>"
      ]
     },
     "metadata": {
      "needs_background": "light"
     },
     "output_type": "display_data"
    }
   ],
   "source": [
    "fig, ax = plt.subplots()\n",
    "\n",
    "ax.plot( segment['Date'],segment['Close/Last'], color='k', linewidth = 0.5)\n",
    "\n",
    "fig.set_figwidth(10)\n",
    "fig.set_figheight(6)\n",
    "\n",
    "plt.xlabel(\"Date\", fontsize=16)\n",
    "plt.ylabel(\"$\", fontsize=16)\n",
    "plt.show()"
   ]
  }
 ],
 "metadata": {
  "kernelspec": {
   "display_name": "Python 3",
   "language": "python",
   "name": "python3"
  },
  "language_info": {
   "codemirror_mode": {
    "name": "ipython",
    "version": 3
   },
   "file_extension": ".py",
   "mimetype": "text/x-python",
   "name": "python",
   "nbconvert_exporter": "python",
   "pygments_lexer": "ipython3",
   "version": "3.7.4"
  }
 },
 "nbformat": 4,
 "nbformat_minor": 4
}
