{
 "cells": [
  {
   "cell_type": "markdown",
   "metadata": {},
   "source": [
    "### Силантьева Ольга Сергеевна Т120-101М-20"
   ]
  },
  {
   "cell_type": "code",
   "execution_count": 3,
   "metadata": {},
   "outputs": [],
   "source": [
    "import numpy as np"
   ]
  },
  {
   "cell_type": "markdown",
   "metadata": {},
   "source": [
    "**1. Перемножить матрицы 5x3 и 3x2**"
   ]
  },
  {
   "cell_type": "code",
   "execution_count": 17,
   "metadata": {},
   "outputs": [
    {
     "name": "stdout",
     "output_type": "stream",
     "text": [
      "A: \n",
      " [[ 0  1  2]\n",
      " [ 3  4  5]\n",
      " [ 6  7  8]\n",
      " [ 9 10 11]\n",
      " [12 13 14]]\n",
      "B: \n",
      " [[0 1]\n",
      " [2 3]\n",
      " [4 5]]\n"
     ]
    },
    {
     "data": {
      "text/plain": [
       "array([[ 10,  13],\n",
       "       [ 28,  40],\n",
       "       [ 46,  67],\n",
       "       [ 64,  94],\n",
       "       [ 82, 121]])"
      ]
     },
     "execution_count": 17,
     "metadata": {},
     "output_type": "execute_result"
    }
   ],
   "source": [
    "A = np.arange(15).reshape(5,3)\n",
    "print(\"A: \\n\",A)\n",
    "B = np.arange(6).reshape(3,2)\n",
    "print(\"B: \\n\",B)\n",
    "np.dot(A,B)"
   ]
  },
  {
   "cell_type": "markdown",
   "metadata": {},
   "source": [
    "**2. Дан массив, поменять знак у элементов, значения которых между 3 и 8**"
   ]
  },
  {
   "cell_type": "code",
   "execution_count": 337,
   "metadata": {},
   "outputs": [
    {
     "name": "stdout",
     "output_type": "stream",
     "text": [
      "[[6 9]\n",
      " [8 1]\n",
      " [2 7]\n",
      " [2 8]\n",
      " [8 4]\n",
      " [7 4]\n",
      " [2 2]\n",
      " [1 3]\n",
      " [6 2]\n",
      " [8 5]]\n"
     ]
    },
    {
     "data": {
      "text/plain": [
       "array([[-6,  9],\n",
       "       [ 8,  1],\n",
       "       [ 2, -7],\n",
       "       [ 2,  8],\n",
       "       [ 8, -4],\n",
       "       [-7, -4],\n",
       "       [ 2,  2],\n",
       "       [ 1,  3],\n",
       "       [-6,  2],\n",
       "       [ 8, -5]])"
      ]
     },
     "execution_count": 337,
     "metadata": {},
     "output_type": "execute_result"
    }
   ],
   "source": [
    "A = np.random.randint(10,size = (10,2))\n",
    "print(A)\n",
    "A[(A>3) & (A<8)] *=-1\n",
    "A"
   ]
  },
  {
   "cell_type": "markdown",
   "metadata": {},
   "source": [
    "**3. Создать 5x5 матрицу со значениями в строках от 0 до 4**"
   ]
  },
  {
   "cell_type": "code",
   "execution_count": 1399,
   "metadata": {},
   "outputs": [
    {
     "data": {
      "text/plain": [
       "array([[0, 1, 2, 3, 4],\n",
       "       [0, 1, 2, 3, 4],\n",
       "       [0, 1, 2, 3, 4],\n",
       "       [0, 1, 2, 3, 4],\n",
       "       [0, 1, 2, 3, 4]])"
      ]
     },
     "execution_count": 1399,
     "metadata": {},
     "output_type": "execute_result"
    }
   ],
   "source": [
    "np.tile(np.arange(5),(5,1))"
   ]
  },
  {
   "cell_type": "markdown",
   "metadata": {},
   "source": [
    "**4. Есть генератор, сделать с его помощью массив**"
   ]
  },
  {
   "cell_type": "code",
   "execution_count": 125,
   "metadata": {},
   "outputs": [
    {
     "data": {
      "text/plain": [
       "array([0, 1, 2, 3, 4, 5, 6, 7, 8, 9])"
      ]
     },
     "execution_count": 125,
     "metadata": {},
     "output_type": "execute_result"
    }
   ],
   "source": [
    "np.fromiter((i for i in range(10)), dtype = int)\n"
   ]
  },
  {
   "cell_type": "markdown",
   "metadata": {},
   "source": [
    "**5. Создать вектор размера 10 со значениями от 0 до 1, не включая ни то, ни другое**"
   ]
  },
  {
   "cell_type": "code",
   "execution_count": 127,
   "metadata": {},
   "outputs": [
    {
     "data": {
      "text/plain": [
       "array([0.09090909, 0.18181818, 0.27272727, 0.36363636, 0.45454545,\n",
       "       0.54545455, 0.63636364, 0.72727273, 0.81818182, 0.90909091])"
      ]
     },
     "execution_count": 127,
     "metadata": {},
     "output_type": "execute_result"
    }
   ],
   "source": [
    "np.linspace(0, 1, 12)[1:-1]"
   ]
  },
  {
   "cell_type": "markdown",
   "metadata": {},
   "source": [
    "**6. Отсортировать вектор**"
   ]
  },
  {
   "cell_type": "code",
   "execution_count": 151,
   "metadata": {},
   "outputs": [
    {
     "name": "stdout",
     "output_type": "stream",
     "text": [
      "[8 0 8 2 5 4 4 7 3 5]\n"
     ]
    },
    {
     "data": {
      "text/plain": [
       "array([0, 2, 3, 4, 4, 5, 5, 7, 8, 8])"
      ]
     },
     "execution_count": 151,
     "metadata": {},
     "output_type": "execute_result"
    }
   ],
   "source": [
    "A = np.random.randint(10,size = 10)\n",
    "print(A)\n",
    "np.sort(A)"
   ]
  },
  {
   "cell_type": "markdown",
   "metadata": {},
   "source": [
    "**7. Проверить, одинаковы ли 2 numpy массива**"
   ]
  },
  {
   "cell_type": "code",
   "execution_count": 1402,
   "metadata": {},
   "outputs": [
    {
     "name": "stdout",
     "output_type": "stream",
     "text": [
      "[0 1 2 3]\n",
      "[0 1 2 3]\n",
      "True\n"
     ]
    }
   ],
   "source": [
    "A = np.arange(4)\n",
    "print(A)\n",
    "B = np.arange(4) #B = np.tile(A,(2,1))\n",
    "print(B)\n",
    "\n",
    "print(np.array_equal(A,B))  # test if same shape, same elements values \n"
   ]
  },
  {
   "cell_type": "markdown",
   "metadata": {},
   "source": [
    "**8. Сделать массив неизменяемым**"
   ]
  },
  {
   "cell_type": "code",
   "execution_count": 216,
   "metadata": {},
   "outputs": [
    {
     "name": "stdout",
     "output_type": "stream",
     "text": [
      "[0 1 2 3 4 5 6 7 8 9]\n",
      "[100   1   2   3   4   5   6   7   8   9]\n"
     ]
    },
    {
     "ename": "ValueError",
     "evalue": "assignment destination is read-only",
     "output_type": "error",
     "traceback": [
      "\u001b[1;31m---------------------------------------------------------------------------\u001b[0m",
      "\u001b[1;31mValueError\u001b[0m                                Traceback (most recent call last)",
      "\u001b[1;32m<ipython-input-216-53a2e15b645d>\u001b[0m in \u001b[0;36m<module>\u001b[1;34m\u001b[0m\n\u001b[0;32m      4\u001b[0m \u001b[0mprint\u001b[0m\u001b[1;33m(\u001b[0m\u001b[0mA\u001b[0m\u001b[1;33m)\u001b[0m\u001b[1;33m\u001b[0m\u001b[1;33m\u001b[0m\u001b[0m\n\u001b[0;32m      5\u001b[0m \u001b[0mA\u001b[0m\u001b[1;33m.\u001b[0m\u001b[0mflags\u001b[0m\u001b[1;33m.\u001b[0m\u001b[0mwriteable\u001b[0m \u001b[1;33m=\u001b[0m \u001b[1;32mFalse\u001b[0m\u001b[1;33m\u001b[0m\u001b[1;33m\u001b[0m\u001b[0m\n\u001b[1;32m----> 6\u001b[1;33m \u001b[0mA\u001b[0m\u001b[1;33m[\u001b[0m\u001b[1;36m0\u001b[0m\u001b[1;33m]\u001b[0m \u001b[1;33m=\u001b[0m \u001b[1;36m0\u001b[0m\u001b[1;33m\u001b[0m\u001b[1;33m\u001b[0m\u001b[0m\n\u001b[0m\u001b[0;32m      7\u001b[0m \u001b[0mprint\u001b[0m\u001b[1;33m(\u001b[0m\u001b[0mA\u001b[0m\u001b[1;33m)\u001b[0m\u001b[1;33m\u001b[0m\u001b[1;33m\u001b[0m\u001b[0m\n",
      "\u001b[1;31mValueError\u001b[0m: assignment destination is read-only"
     ]
    }
   ],
   "source": [
    "A = np.arange(10)\n",
    "print(A)\n",
    "A[0] = 100\n",
    "print(A)\n",
    "A.flags.writeable = False\n",
    "A[0] = 0 \n",
    "print(A)"
   ]
  },
  {
   "cell_type": "markdown",
   "metadata": {},
   "source": [
    "**9. Дан массив 10x2 (точки в декартовой системе координат), преобразовать в полярную**"
   ]
  },
  {
   "cell_type": "code",
   "execution_count": 1416,
   "metadata": {},
   "outputs": [
    {
     "name": "stdout",
     "output_type": "stream",
     "text": [
      "[[7. 8.]\n",
      " [5. 2.]\n",
      " [7. 6.]\n",
      " [6. 3.]\n",
      " [3. 6.]\n",
      " [1. 4.]\n",
      " [9. 9.]\n",
      " [5. 3.]\n",
      " [4. 2.]\n",
      " [5. 1.]]\n",
      "[[10.63014581  0.85196633]\n",
      " [ 5.38516481  0.38050638]\n",
      " [ 9.21954446  0.70862627]\n",
      " [ 6.70820393  0.46364761]\n",
      " [ 6.70820393  1.10714872]\n",
      " [ 4.12310563  1.32581766]\n",
      " [12.72792206  0.78539816]\n",
      " [ 5.83095189  0.5404195 ]\n",
      " [ 4.47213595  0.46364761]\n",
      " [ 5.09901951  0.19739556]]\n"
     ]
    }
   ],
   "source": [
    "A = np.random.randint(10,size = (10,2))\n",
    "A = A[:]*1.0\n",
    "print(A)\n",
    "P = (A[:,0]**2 + A[:,1]**2)**(1/2)\n",
    "F = np.arctan2(A[:,1],A[:,0])\n",
    "A[:,0] = P\n",
    "A[:,1] = F\n",
    "print(A)"
   ]
  },
  {
   "cell_type": "markdown",
   "metadata": {},
   "source": [
    "**10. Заменить максимальный элемент на ноль**"
   ]
  },
  {
   "cell_type": "code",
   "execution_count": 358,
   "metadata": {},
   "outputs": [
    {
     "name": "stdout",
     "output_type": "stream",
     "text": [
      "[8 9 9 9 8 8 9 9 9 8]\n",
      "1\n",
      "[8 0 0 0 8 8 0 0 0 8]\n"
     ]
    }
   ],
   "source": [
    "A = np.random.randint(8,10,size = (10))\n",
    "print(A)\n",
    "print(np.argmax(A))\n",
    "A[(A == A[np.argmax(A)])] = 0\n",
    "print(A)"
   ]
  },
  {
   "cell_type": "markdown",
   "metadata": {},
   "source": [
    "**11. Создать структурированный массив с координатами x, y на сетке в квадрате [0,1]x[0,1]**"
   ]
  },
  {
   "cell_type": "code",
   "execution_count": 471,
   "metadata": {},
   "outputs": [
    {
     "name": "stdout",
     "output_type": "stream",
     "text": [
      "[[(0.        , 0.        ) (0.11111111, 0.        )\n",
      "  (0.22222222, 0.        ) (0.33333334, 0.        )\n",
      "  (0.44444445, 0.        ) (0.5555556 , 0.        )\n",
      "  (0.6666667 , 0.        ) (0.7777778 , 0.        )\n",
      "  (0.8888889 , 0.        ) (1.        , 0.        )]\n",
      " [(0.        , 0.11111111) (0.11111111, 0.11111111)\n",
      "  (0.22222222, 0.11111111) (0.33333334, 0.11111111)\n",
      "  (0.44444445, 0.11111111) (0.5555556 , 0.11111111)\n",
      "  (0.6666667 , 0.11111111) (0.7777778 , 0.11111111)\n",
      "  (0.8888889 , 0.11111111) (1.        , 0.11111111)]\n",
      " [(0.        , 0.22222222) (0.11111111, 0.22222222)\n",
      "  (0.22222222, 0.22222222) (0.33333334, 0.22222222)\n",
      "  (0.44444445, 0.22222222) (0.5555556 , 0.22222222)\n",
      "  (0.6666667 , 0.22222222) (0.7777778 , 0.22222222)\n",
      "  (0.8888889 , 0.22222222) (1.        , 0.22222222)]\n",
      " [(0.        , 0.33333334) (0.11111111, 0.33333334)\n",
      "  (0.22222222, 0.33333334) (0.33333334, 0.33333334)\n",
      "  (0.44444445, 0.33333334) (0.5555556 , 0.33333334)\n",
      "  (0.6666667 , 0.33333334) (0.7777778 , 0.33333334)\n",
      "  (0.8888889 , 0.33333334) (1.        , 0.33333334)]\n",
      " [(0.        , 0.44444445) (0.11111111, 0.44444445)\n",
      "  (0.22222222, 0.44444445) (0.33333334, 0.44444445)\n",
      "  (0.44444445, 0.44444445) (0.5555556 , 0.44444445)\n",
      "  (0.6666667 , 0.44444445) (0.7777778 , 0.44444445)\n",
      "  (0.8888889 , 0.44444445) (1.        , 0.44444445)]\n",
      " [(0.        , 0.5555556 ) (0.11111111, 0.5555556 )\n",
      "  (0.22222222, 0.5555556 ) (0.33333334, 0.5555556 )\n",
      "  (0.44444445, 0.5555556 ) (0.5555556 , 0.5555556 )\n",
      "  (0.6666667 , 0.5555556 ) (0.7777778 , 0.5555556 )\n",
      "  (0.8888889 , 0.5555556 ) (1.        , 0.5555556 )]\n",
      " [(0.        , 0.6666667 ) (0.11111111, 0.6666667 )\n",
      "  (0.22222222, 0.6666667 ) (0.33333334, 0.6666667 )\n",
      "  (0.44444445, 0.6666667 ) (0.5555556 , 0.6666667 )\n",
      "  (0.6666667 , 0.6666667 ) (0.7777778 , 0.6666667 )\n",
      "  (0.8888889 , 0.6666667 ) (1.        , 0.6666667 )]\n",
      " [(0.        , 0.7777778 ) (0.11111111, 0.7777778 )\n",
      "  (0.22222222, 0.7777778 ) (0.33333334, 0.7777778 )\n",
      "  (0.44444445, 0.7777778 ) (0.5555556 , 0.7777778 )\n",
      "  (0.6666667 , 0.7777778 ) (0.7777778 , 0.7777778 )\n",
      "  (0.8888889 , 0.7777778 ) (1.        , 0.7777778 )]\n",
      " [(0.        , 0.8888889 ) (0.11111111, 0.8888889 )\n",
      "  (0.22222222, 0.8888889 ) (0.33333334, 0.8888889 )\n",
      "  (0.44444445, 0.8888889 ) (0.5555556 , 0.8888889 )\n",
      "  (0.6666667 , 0.8888889 ) (0.7777778 , 0.8888889 )\n",
      "  (0.8888889 , 0.8888889 ) (1.        , 0.8888889 )]\n",
      " [(0.        , 1.        ) (0.11111111, 1.        )\n",
      "  (0.22222222, 1.        ) (0.33333334, 1.        )\n",
      "  (0.44444445, 1.        ) (0.5555556 , 1.        )\n",
      "  (0.6666667 , 1.        ) (0.7777778 , 1.        )\n",
      "  (0.8888889 , 1.        ) (1.        , 1.        )]]\n"
     ]
    },
    {
     "data": {
      "text/plain": [
       "[<matplotlib.lines.Line2D at 0x16dbb990>,\n",
       " <matplotlib.lines.Line2D at 0x16dbb9d0>,\n",
       " <matplotlib.lines.Line2D at 0x16dbba30>,\n",
       " <matplotlib.lines.Line2D at 0x16dbba90>,\n",
       " <matplotlib.lines.Line2D at 0x16dbbaf0>,\n",
       " <matplotlib.lines.Line2D at 0x16dbbb90>,\n",
       " <matplotlib.lines.Line2D at 0x16dbbbd0>,\n",
       " <matplotlib.lines.Line2D at 0x16dbbc30>,\n",
       " <matplotlib.lines.Line2D at 0x16dbbc90>,\n",
       " <matplotlib.lines.Line2D at 0x16dbbb50>]"
      ]
     },
     "execution_count": 471,
     "metadata": {},
     "output_type": "execute_result"
    },
    {
     "data": {
      "image/png": "[encoded data removed]",
      "text/plain": [
       "<Figure size 432x288 with 1 Axes>"
      ]
     },
     "metadata": {
      "needs_background": "light"
     },
     "output_type": "display_data"
    }
   ],
   "source": [
    "A = np.zeros((10,10),dtype = [('x','f4'),('y','f4')])\n",
    "\n",
    "A['x'], A['y'] = np.meshgrid(np.linspace(0,1,10),\n",
    "                             np.linspace(0,1,10))\n",
    "print(A)\n",
    "import matplotlib.pyplot as plt\n",
    "plt.plot(A['x'],A['y'], marker='.', color='k', linestyle='none')\n",
    "\n"
   ]
  },
  {
   "cell_type": "markdown",
   "metadata": {},
   "source": [
    "**12. Из двух массивов сделать матрицу Коши C (Cij = 1/(xi - yj))**"
   ]
  },
  {
   "cell_type": "code",
   "execution_count": 513,
   "metadata": {},
   "outputs": [
    {
     "name": "stdout",
     "output_type": "stream",
     "text": [
      "[[10 11 12 13 14 15 16 17 18 19]\n",
      " [10 11 12 13 14 15 16 17 18 19]\n",
      " [10 11 12 13 14 15 16 17 18 19]\n",
      " [10 11 12 13 14 15 16 17 18 19]\n",
      " [10 11 12 13 14 15 16 17 18 19]\n",
      " [10 11 12 13 14 15 16 17 18 19]\n",
      " [10 11 12 13 14 15 16 17 18 19]\n",
      " [10 11 12 13 14 15 16 17 18 19]\n",
      " [10 11 12 13 14 15 16 17 18 19]\n",
      " [10 11 12 13 14 15 16 17 18 19]]\n",
      "[[0 0 0 0 0 0 0 0 0 0]\n",
      " [1 1 1 1 1 1 1 1 1 1]\n",
      " [2 2 2 2 2 2 2 2 2 2]\n",
      " [3 3 3 3 3 3 3 3 3 3]\n",
      " [4 4 4 4 4 4 4 4 4 4]\n",
      " [5 5 5 5 5 5 5 5 5 5]\n",
      " [6 6 6 6 6 6 6 6 6 6]\n",
      " [7 7 7 7 7 7 7 7 7 7]\n",
      " [8 8 8 8 8 8 8 8 8 8]\n",
      " [9 9 9 9 9 9 9 9 9 9]]\n"
     ]
    },
    {
     "data": {
      "text/plain": [
       "array([[0.1       , 0.09090909, 0.08333333, 0.07692308, 0.07142857,\n",
       "        0.06666667, 0.0625    , 0.05882353, 0.05555556, 0.05263158],\n",
       "       [0.11111111, 0.1       , 0.09090909, 0.08333333, 0.07692308,\n",
       "        0.07142857, 0.06666667, 0.0625    , 0.05882353, 0.05555556],\n",
       "       [0.125     , 0.11111111, 0.1       , 0.09090909, 0.08333333,\n",
       "        0.07692308, 0.07142857, 0.06666667, 0.0625    , 0.05882353],\n",
       "       [0.14285714, 0.125     , 0.11111111, 0.1       , 0.09090909,\n",
       "        0.08333333, 0.07692308, 0.07142857, 0.06666667, 0.0625    ],\n",
       "       [0.16666667, 0.14285714, 0.125     , 0.11111111, 0.1       ,\n",
       "        0.09090909, 0.08333333, 0.07692308, 0.07142857, 0.06666667],\n",
       "       [0.2       , 0.16666667, 0.14285714, 0.125     , 0.11111111,\n",
       "        0.1       , 0.09090909, 0.08333333, 0.07692308, 0.07142857],\n",
       "       [0.25      , 0.2       , 0.16666667, 0.14285714, 0.125     ,\n",
       "        0.11111111, 0.1       , 0.09090909, 0.08333333, 0.07692308],\n",
       "       [0.33333333, 0.25      , 0.2       , 0.16666667, 0.14285714,\n",
       "        0.125     , 0.11111111, 0.1       , 0.09090909, 0.08333333],\n",
       "       [0.5       , 0.33333333, 0.25      , 0.2       , 0.16666667,\n",
       "        0.14285714, 0.125     , 0.11111111, 0.1       , 0.09090909],\n",
       "       [1.        , 0.5       , 0.33333333, 0.25      , 0.2       ,\n",
       "        0.16666667, 0.14285714, 0.125     , 0.11111111, 0.1       ]])"
      ]
     },
     "execution_count": 513,
     "metadata": {},
     "output_type": "execute_result"
    }
   ],
   "source": [
    "X,Y = np.meshgrid(np.arange(10,20),\n",
    "                  np.arange(10))\n",
    "print(X)\n",
    "print(Y)\n",
    "C =1/(X - Y)\n",
    "C"
   ]
  },
  {
   "cell_type": "markdown",
   "metadata": {},
   "source": [
    "**13. Найти минимальное и максимальное значение, принимаемое каждым числовым типом numpy**"
   ]
  },
  {
   "cell_type": "code",
   "execution_count": 624,
   "metadata": {},
   "outputs": [
    {
     "name": "stdout",
     "output_type": "stream",
     "text": [
      "Machine parameters for uint64\n",
      "---------------------------------------------------------------\n",
      "min = 0\n",
      "max = 18446744073709551615\n",
      "---------------------------------------------------------------\n",
      "\n",
      "Machine parameters for uint32\n",
      "---------------------------------------------------------------\n",
      "min = 0\n",
      "max = 4294967295\n",
      "---------------------------------------------------------------\n",
      "\n",
      "Machine parameters for float32\n",
      "---------------------------------------------------------------\n",
      "precision =   6   resolution = 1.0000000e-06\n",
      "machep =    -23   eps =        1.1920929e-07\n",
      "negep =     -24   epsneg =     5.9604645e-08\n",
      "minexp =   -126   tiny =       1.1754944e-38\n",
      "maxexp =    128   max =        3.4028235e+38\n",
      "nexp =        8   min =        -max\n",
      "---------------------------------------------------------------\n",
      "\n",
      "Machine parameters for float64\n",
      "---------------------------------------------------------------\n",
      "precision =  15   resolution = 1.0000000000000001e-15\n",
      "machep =    -52   eps =        2.2204460492503131e-16\n",
      "negep =     -53   epsneg =     1.1102230246251565e-16\n",
      "minexp =  -1022   tiny =       2.2250738585072014e-308\n",
      "maxexp =   1024   max =        1.7976931348623157e+308\n",
      "nexp =       11   min =        -max\n",
      "---------------------------------------------------------------\n",
      "\n",
      "Machine parameters for float16\n",
      "---------------------------------------------------------------\n",
      "precision =   3   resolution = 1.00040e-03\n",
      "machep =    -10   eps =        9.76562e-04\n",
      "negep =     -11   epsneg =     4.88281e-04\n",
      "minexp =    -14   tiny =       6.10352e-05\n",
      "maxexp =     16   max =        6.55040e+04\n",
      "nexp =        5   min =        -max\n",
      "---------------------------------------------------------------\n",
      "\n",
      "Machine parameters for uint16\n",
      "---------------------------------------------------------------\n",
      "min = 0\n",
      "max = 65535\n",
      "---------------------------------------------------------------\n",
      "\n",
      "Machine parameters for int32\n",
      "---------------------------------------------------------------\n",
      "min = -2147483648\n",
      "max = 2147483647\n",
      "---------------------------------------------------------------\n",
      "\n",
      "Machine parameters for int64\n",
      "---------------------------------------------------------------\n",
      "min = -9223372036854775808\n",
      "max = 9223372036854775807\n",
      "---------------------------------------------------------------\n",
      "\n",
      "Machine parameters for int32\n",
      "---------------------------------------------------------------\n",
      "min = -2147483648\n",
      "max = 2147483647\n",
      "---------------------------------------------------------------\n",
      "\n",
      "Machine parameters for int16\n",
      "---------------------------------------------------------------\n",
      "min = -32768\n",
      "max = 32767\n",
      "---------------------------------------------------------------\n",
      "\n",
      "Machine parameters for uint8\n",
      "---------------------------------------------------------------\n",
      "min = 0\n",
      "max = 255\n",
      "---------------------------------------------------------------\n",
      "\n",
      "Machine parameters for uint32\n",
      "---------------------------------------------------------------\n",
      "min = 0\n",
      "max = 4294967295\n",
      "---------------------------------------------------------------\n",
      "\n",
      "Machine parameters for int8\n",
      "---------------------------------------------------------------\n",
      "min = -128\n",
      "max = 127\n",
      "---------------------------------------------------------------\n",
      "\n"
     ]
    }
   ],
   "source": [
    "for i in set(np.sctypeDict.values()):\n",
    "    if str(i).find('float') != -1:\n",
    "        print(np.finfo(i))\n",
    "    if str(i).find('int') != -1:\n",
    "        print(np.iinfo(i))"
   ]
  },
  {
   "cell_type": "code",
   "execution_count": 1409,
   "metadata": {},
   "outputs": [
    {
     "data": {
      "text/plain": [
       "{numpy.bool_,\n",
       " numpy.bytes_,\n",
       " numpy.clongdouble,\n",
       " numpy.complex128,\n",
       " numpy.complex64,\n",
       " numpy.datetime64,\n",
       " numpy.float16,\n",
       " numpy.float32,\n",
       " numpy.float64,\n",
       " numpy.int16,\n",
       " numpy.int32,\n",
       " numpy.int64,\n",
       " numpy.int8,\n",
       " numpy.intc,\n",
       " numpy.longdouble,\n",
       " numpy.object_,\n",
       " numpy.str_,\n",
       " numpy.timedelta64,\n",
       " numpy.uint16,\n",
       " numpy.uint32,\n",
       " numpy.uint64,\n",
       " numpy.uint8,\n",
       " numpy.uintc,\n",
       " numpy.void}"
      ]
     },
     "execution_count": 1409,
     "metadata": {},
     "output_type": "execute_result"
    }
   ],
   "source": [
    "set(np.sctypeDict.values())"
   ]
  },
  {
   "cell_type": "code",
   "execution_count": 1364,
   "metadata": {},
   "outputs": [
    {
     "data": {
      "text/plain": [
       "numpy.uint8"
      ]
     },
     "execution_count": 1364,
     "metadata": {},
     "output_type": "execute_result"
    }
   ],
   "source": [
    "np.sctypeDict['ubyte']"
   ]
  },
  {
   "cell_type": "markdown",
   "metadata": {},
   "source": [
    "**14. Напечатать все значения в массиве**"
   ]
  },
  {
   "cell_type": "code",
   "execution_count": 642,
   "metadata": {},
   "outputs": [
    {
     "name": "stdout",
     "output_type": "stream",
     "text": [
      "[   0    1    2 ... 2997 2998 2999]\n",
      "[   0    1    2    3    4    5    6    7    8    9   10   11   12   13\n",
      "   14   15   16   17   18   19   20   21   22   23   24   25   26   27\n",
      "   28   29   30   31   32   33   34   35   36   37   38   39   40   41\n",
      "   42   43   44   45   46   47   48   49   50   51   52   53   54   55\n",
      "   56   57   58   59   60   61   62   63   64   65   66   67   68   69\n",
      "   70   71   72   73   74   75   76   77   78   79   80   81   82   83\n",
      "   84   85   86   87   88   89   90   91   92   93   94   95   96   97\n",
      "   98   99  100  101  102  103  104  105  106  107  108  109  110  111\n",
      "  112  113  114  115  116  117  118  119  120  121  122  123  124  125\n",
      "  126  127  128  129  130  131  132  133  134  135  136  137  138  139\n",
      "  140  141  142  143  144  145  146  147  148  149  150  151  152  153\n",
      "  154  155  156  157  158  159  160  161  162  163  164  165  166  167\n",
      "  168  169  170  171  172  173  174  175  176  177  178  179  180  181\n",
      "  182  183  184  185  186  187  188  189  190  191  192  193  194  195\n",
      "  196  197  198  199  200  201  202  203  204  205  206  207  208  209\n",
      "  210  211  212  213  214  215  216  217  218  219  220  221  222  223\n",
      "  224  225  226  227  228  229  230  231  232  233  234  235  236  237\n",
      "  238  239  240  241  242  243  244  245  246  247  248  249  250  251\n",
      "  252  253  254  255  256  257  258  259  260  261  262  263  264  265\n",
      "  266  267  268  269  270  271  272  273  274  275  276  277  278  279\n",
      "  280  281  282  283  284  285  286  287  288  289  290  291  292  293\n",
      "  294  295  296  297  298  299  300  301  302  303  304  305  306  307\n",
      "  308  309  310  311  312  313  314  315  316  317  318  319  320  321\n",
      "  322  323  324  325  326  327  328  329  330  331  332  333  334  335\n",
      "  336  337  338  339  340  341  342  343  344  345  346  347  348  349\n",
      "  350  351  352  353  354  355  356  357  358  359  360  361  362  363\n",
      "  364  365  366  367  368  369  370  371  372  373  374  375  376  377\n",
      "  378  379  380  381  382  383  384  385  386  387  388  389  390  391\n",
      "  392  393  394  395  396  397  398  399  400  401  402  403  404  405\n",
      "  406  407  408  409  410  411  412  413  414  415  416  417  418  419\n",
      "  420  421  422  423  424  425  426  427  428  429  430  431  432  433\n",
      "  434  435  436  437  438  439  440  441  442  443  444  445  446  447\n",
      "  448  449  450  451  452  453  454  455  456  457  458  459  460  461\n",
      "  462  463  464  465  466  467  468  469  470  471  472  473  474  475\n",
      "  476  477  478  479  480  481  482  483  484  485  486  487  488  489\n",
      "  490  491  492  493  494  495  496  497  498  499  500  501  502  503\n",
      "  504  505  506  507  508  509  510  511  512  513  514  515  516  517\n",
      "  518  519  520  521  522  523  524  525  526  527  528  529  530  531\n",
      "  532  533  534  535  536  537  538  539  540  541  542  543  544  545\n",
      "  546  547  548  549  550  551  552  553  554  555  556  557  558  559\n",
      "  560  561  562  563  564  565  566  567  568  569  570  571  572  573\n",
      "  574  575  576  577  578  579  580  581  582  583  584  585  586  587\n",
      "  588  589  590  591  592  593  594  595  596  597  598  599  600  601\n",
      "  602  603  604  605  606  607  608  609  610  611  612  613  614  615\n",
      "  616  617  618  619  620  621  622  623  624  625  626  627  628  629\n",
      "  630  631  632  633  634  635  636  637  638  639  640  641  642  643\n",
      "  644  645  646  647  648  649  650  651  652  653  654  655  656  657\n",
      "  658  659  660  661  662  663  664  665  666  667  668  669  670  671\n",
      "  672  673  674  675  676  677  678  679  680  681  682  683  684  685\n",
      "  686  687  688  689  690  691  692  693  694  695  696  697  698  699\n",
      "  700  701  702  703  704  705  706  707  708  709  710  711  712  713\n",
      "  714  715  716  717  718  719  720  721  722  723  724  725  726  727\n",
      "  728  729  730  731  732  733  734  735  736  737  738  739  740  741\n",
      "  742  743  744  745  746  747  748  749  750  751  752  753  754  755\n",
      "  756  757  758  759  760  761  762  763  764  765  766  767  768  769\n",
      "  770  771  772  773  774  775  776  777  778  779  780  781  782  783\n",
      "  784  785  786  787  788  789  790  791  792  793  794  795  796  797\n",
      "  798  799  800  801  802  803  804  805  806  807  808  809  810  811\n",
      "  812  813  814  815  816  817  818  819  820  821  822  823  824  825\n",
      "  826  827  828  829  830  831  832  833  834  835  836  837  838  839\n",
      "  840  841  842  843  844  845  846  847  848  849  850  851  852  853\n",
      "  854  855  856  857  858  859  860  861  862  863  864  865  866  867\n",
      "  868  869  870  871  872  873  874  875  876  877  878  879  880  881\n",
      "  882  883  884  885  886  887  888  889  890  891  892  893  894  895\n",
      "  896  897  898  899  900  901  902  903  904  905  906  907  908  909\n",
      "  910  911  912  913  914  915  916  917  918  919  920  921  922  923\n",
      "  924  925  926  927  928  929  930  931  932  933  934  935  936  937\n",
      "  938  939  940  941  942  943  944  945  946  947  948  949  950  951\n",
      "  952  953  954  955  956  957  958  959  960  961  962  963  964  965\n",
      "  966  967  968  969  970  971  972  973  974  975  976  977  978  979\n",
      "  980  981  982  983  984  985  986  987  988  989  990  991  992  993\n",
      "  994  995  996  997  998  999 1000 1001 1002 1003 1004 1005 1006 1007\n",
      " 1008 1009 1010 1011 1012 1013 1014 1015 1016 1017 1018 1019 1020 1021\n",
      " 1022 1023 1024 1025 1026 1027 1028 1029 1030 1031 1032 1033 1034 1035\n",
      " 1036 1037 1038 1039 1040 1041 1042 1043 1044 1045 1046 1047 1048 1049\n",
      " 1050 1051 1052 1053 1054 1055 1056 1057 1058 1059 1060 1061 1062 1063\n",
      " 1064 1065 1066 1067 1068 1069 1070 1071 1072 1073 1074 1075 1076 1077\n",
      " 1078 1079 1080 1081 1082 1083 1084 1085 1086 1087 1088 1089 1090 1091\n",
      " 1092 1093 1094 1095 1096 1097 1098 1099 1100 1101 1102 1103 1104 1105\n",
      " 1106 1107 1108 1109 1110 1111 1112 1113 1114 1115 1116 1117 1118 1119\n",
      " 1120 1121 1122 1123 1124 1125 1126 1127 1128 1129 1130 1131 1132 1133\n",
      " 1134 1135 1136 1137 1138 1139 1140 1141 1142 1143 1144 1145 1146 1147\n",
      " 1148 1149 1150 1151 1152 1153 1154 1155 1156 1157 1158 1159 1160 1161\n",
      " 1162 1163 1164 1165 1166 1167 1168 1169 1170 1171 1172 1173 1174 1175\n",
      " 1176 1177 1178 1179 1180 1181 1182 1183 1184 1185 1186 1187 1188 1189\n",
      " 1190 1191 1192 1193 1194 1195 1196 1197 1198 1199 1200 1201 1202 1203\n",
      " 1204 1205 1206 1207 1208 1209 1210 1211 1212 1213 1214 1215 1216 1217\n",
      " 1218 1219 1220 1221 1222 1223 1224 1225 1226 1227 1228 1229 1230 1231\n",
      " 1232 1233 1234 1235 1236 1237 1238 1239 1240 1241 1242 1243 1244 1245\n",
      " 1246 1247 1248 1249 1250 1251 1252 1253 1254 1255 1256 1257 1258 1259\n",
      " 1260 1261 1262 1263 1264 1265 1266 1267 1268 1269 1270 1271 1272 1273\n",
      " 1274 1275 1276 1277 1278 1279 1280 1281 1282 1283 1284 1285 1286 1287\n",
      " 1288 1289 1290 1291 1292 1293 1294 1295 1296 1297 1298 1299 1300 1301\n",
      " 1302 1303 1304 1305 1306 1307 1308 1309 1310 1311 1312 1313 1314 1315\n",
      " 1316 1317 1318 1319 1320 1321 1322 1323 1324 1325 1326 1327 1328 1329\n",
      " 1330 1331 1332 1333 1334 1335 1336 1337 1338 1339 1340 1341 1342 1343\n",
      " 1344 1345 1346 1347 1348 1349 1350 1351 1352 1353 1354 1355 1356 1357\n",
      " 1358 1359 1360 1361 1362 1363 1364 1365 1366 1367 1368 1369 1370 1371\n",
      " 1372 1373 1374 1375 1376 1377 1378 1379 1380 1381 1382 1383 1384 1385\n",
      " 1386 1387 1388 1389 1390 1391 1392 1393 1394 1395 1396 1397 1398 1399\n",
      " 1400 1401 1402 1403 1404 1405 1406 1407 1408 1409 1410 1411 1412 1413\n",
      " 1414 1415 1416 1417 1418 1419 1420 1421 1422 1423 1424 1425 1426 1427\n",
      " 1428 1429 1430 1431 1432 1433 1434 1435 1436 1437 1438 1439 1440 1441\n",
      " 1442 1443 1444 1445 1446 1447 1448 1449 1450 1451 1452 1453 1454 1455\n",
      " 1456 1457 1458 1459 1460 1461 1462 1463 1464 1465 1466 1467 1468 1469\n",
      " 1470 1471 1472 1473 1474 1475 1476 1477 1478 1479 1480 1481 1482 1483\n",
      " 1484 1485 1486 1487 1488 1489 1490 1491 1492 1493 1494 1495 1496 1497\n",
      " 1498 1499 1500 1501 1502 1503 1504 1505 1506 1507 1508 1509 1510 1511\n",
      " 1512 1513 1514 1515 1516 1517 1518 1519 1520 1521 1522 1523 1524 1525\n",
      " 1526 1527 1528 1529 1530 1531 1532 1533 1534 1535 1536 1537 1538 1539\n",
      " 1540 1541 1542 1543 1544 1545 1546 1547 1548 1549 1550 1551 1552 1553\n",
      " 1554 1555 1556 1557 1558 1559 1560 1561 1562 1563 1564 1565 1566 1567\n",
      " 1568 1569 1570 1571 1572 1573 1574 1575 1576 1577 1578 1579 1580 1581\n",
      " 1582 1583 1584 1585 1586 1587 1588 1589 1590 1591 1592 1593 1594 1595\n",
      " 1596 1597 1598 1599 1600 1601 1602 1603 1604 1605 1606 1607 1608 1609\n",
      " 1610 1611 1612 1613 1614 1615 1616 1617 1618 1619 1620 1621 1622 1623\n",
      " 1624 1625 1626 1627 1628 1629 1630 1631 1632 1633 1634 1635 1636 1637\n",
      " 1638 1639 1640 1641 1642 1643 1644 1645 1646 1647 1648 1649 1650 1651\n",
      " 1652 1653 1654 1655 1656 1657 1658 1659 1660 1661 1662 1663 1664 1665\n",
      " 1666 1667 1668 1669 1670 1671 1672 1673 1674 1675 1676 1677 1678 1679\n",
      " 1680 1681 1682 1683 1684 1685 1686 1687 1688 1689 1690 1691 1692 1693\n",
      " 1694 1695 1696 1697 1698 1699 1700 1701 1702 1703 1704 1705 1706 1707\n",
      " 1708 1709 1710 1711 1712 1713 1714 1715 1716 1717 1718 1719 1720 1721\n",
      " 1722 1723 1724 1725 1726 1727 1728 1729 1730 1731 1732 1733 1734 1735\n",
      " 1736 1737 1738 1739 1740 1741 1742 1743 1744 1745 1746 1747 1748 1749\n",
      " 1750 1751 1752 1753 1754 1755 1756 1757 1758 1759 1760 1761 1762 1763\n",
      " 1764 1765 1766 1767 1768 1769 1770 1771 1772 1773 1774 1775 1776 1777\n",
      " 1778 1779 1780 1781 1782 1783 1784 1785 1786 1787 1788 1789 1790 1791\n",
      " 1792 1793 1794 1795 1796 1797 1798 1799 1800 1801 1802 1803 1804 1805\n",
      " 1806 1807 1808 1809 1810 1811 1812 1813 1814 1815 1816 1817 1818 1819\n",
      " 1820 1821 1822 1823 1824 1825 1826 1827 1828 1829 1830 1831 1832 1833\n",
      " 1834 1835 1836 1837 1838 1839 1840 1841 1842 1843 1844 1845 1846 1847\n",
      " 1848 1849 1850 1851 1852 1853 1854 1855 1856 1857 1858 1859 1860 1861\n",
      " 1862 1863 1864 1865 1866 1867 1868 1869 1870 1871 1872 1873 1874 1875\n",
      " 1876 1877 1878 1879 1880 1881 1882 1883 1884 1885 1886 1887 1888 1889\n",
      " 1890 1891 1892 1893 1894 1895 1896 1897 1898 1899 1900 1901 1902 1903\n",
      " 1904 1905 1906 1907 1908 1909 1910 1911 1912 1913 1914 1915 1916 1917\n",
      " 1918 1919 1920 1921 1922 1923 1924 1925 1926 1927 1928 1929 1930 1931\n",
      " 1932 1933 1934 1935 1936 1937 1938 1939 1940 1941 1942 1943 1944 1945\n",
      " 1946 1947 1948 1949 1950 1951 1952 1953 1954 1955 1956 1957 1958 1959\n",
      " 1960 1961 1962 1963 1964 1965 1966 1967 1968 1969 1970 1971 1972 1973\n",
      " 1974 1975 1976 1977 1978 1979 1980 1981 1982 1983 1984 1985 1986 1987\n",
      " 1988 1989 1990 1991 1992 1993 1994 1995 1996 1997 1998 1999 2000 2001\n",
      " 2002 2003 2004 2005 2006 2007 2008 2009 2010 2011 2012 2013 2014 2015\n",
      " 2016 2017 2018 2019 2020 2021 2022 2023 2024 2025 2026 2027 2028 2029\n",
      " 2030 2031 2032 2033 2034 2035 2036 2037 2038 2039 2040 2041 2042 2043\n",
      " 2044 2045 2046 2047 2048 2049 2050 2051 2052 2053 2054 2055 2056 2057\n",
      " 2058 2059 2060 2061 2062 2063 2064 2065 2066 2067 2068 2069 2070 2071\n",
      " 2072 2073 2074 2075 2076 2077 2078 2079 2080 2081 2082 2083 2084 2085\n",
      " 2086 2087 2088 2089 2090 2091 2092 2093 2094 2095 2096 2097 2098 2099\n",
      " 2100 2101 2102 2103 2104 2105 2106 2107 2108 2109 2110 2111 2112 2113\n",
      " 2114 2115 2116 2117 2118 2119 2120 2121 2122 2123 2124 2125 2126 2127\n",
      " 2128 2129 2130 2131 2132 2133 2134 2135 2136 2137 2138 2139 2140 2141\n",
      " 2142 2143 2144 2145 2146 2147 2148 2149 2150 2151 2152 2153 2154 2155\n",
      " 2156 2157 2158 2159 2160 2161 2162 2163 2164 2165 2166 2167 2168 2169\n",
      " 2170 2171 2172 2173 2174 2175 2176 2177 2178 2179 2180 2181 2182 2183\n",
      " 2184 2185 2186 2187 2188 2189 2190 2191 2192 2193 2194 2195 2196 2197\n",
      " 2198 2199 2200 2201 2202 2203 2204 2205 2206 2207 2208 2209 2210 2211\n",
      " 2212 2213 2214 2215 2216 2217 2218 2219 2220 2221 2222 2223 2224 2225\n",
      " 2226 2227 2228 2229 2230 2231 2232 2233 2234 2235 2236 2237 2238 2239\n",
      " 2240 2241 2242 2243 2244 2245 2246 2247 2248 2249 2250 2251 2252 2253\n",
      " 2254 2255 2256 2257 2258 2259 2260 2261 2262 2263 2264 2265 2266 2267\n",
      " 2268 2269 2270 2271 2272 2273 2274 2275 2276 2277 2278 2279 2280 2281\n",
      " 2282 2283 2284 2285 2286 2287 2288 2289 2290 2291 2292 2293 2294 2295\n",
      " 2296 2297 2298 2299 2300 2301 2302 2303 2304 2305 2306 2307 2308 2309\n",
      " 2310 2311 2312 2313 2314 2315 2316 2317 2318 2319 2320 2321 2322 2323\n",
      " 2324 2325 2326 2327 2328 2329 2330 2331 2332 2333 2334 2335 2336 2337\n",
      " 2338 2339 2340 2341 2342 2343 2344 2345 2346 2347 2348 2349 2350 2351\n",
      " 2352 2353 2354 2355 2356 2357 2358 2359 2360 2361 2362 2363 2364 2365\n",
      " 2366 2367 2368 2369 2370 2371 2372 2373 2374 2375 2376 2377 2378 2379\n",
      " 2380 2381 2382 2383 2384 2385 2386 2387 2388 2389 2390 2391 2392 2393\n",
      " 2394 2395 2396 2397 2398 2399 2400 2401 2402 2403 2404 2405 2406 2407\n",
      " 2408 2409 2410 2411 2412 2413 2414 2415 2416 2417 2418 2419 2420 2421\n",
      " 2422 2423 2424 2425 2426 2427 2428 2429 2430 2431 2432 2433 2434 2435\n",
      " 2436 2437 2438 2439 2440 2441 2442 2443 2444 2445 2446 2447 2448 2449\n",
      " 2450 2451 2452 2453 2454 2455 2456 2457 2458 2459 2460 2461 2462 2463\n",
      " 2464 2465 2466 2467 2468 2469 2470 2471 2472 2473 2474 2475 2476 2477\n",
      " 2478 2479 2480 2481 2482 2483 2484 2485 2486 2487 2488 2489 2490 2491\n",
      " 2492 2493 2494 2495 2496 2497 2498 2499 2500 2501 2502 2503 2504 2505\n",
      " 2506 2507 2508 2509 2510 2511 2512 2513 2514 2515 2516 2517 2518 2519\n",
      " 2520 2521 2522 2523 2524 2525 2526 2527 2528 2529 2530 2531 2532 2533\n",
      " 2534 2535 2536 2537 2538 2539 2540 2541 2542 2543 2544 2545 2546 2547\n",
      " 2548 2549 2550 2551 2552 2553 2554 2555 2556 2557 2558 2559 2560 2561\n",
      " 2562 2563 2564 2565 2566 2567 2568 2569 2570 2571 2572 2573 2574 2575\n",
      " 2576 2577 2578 2579 2580 2581 2582 2583 2584 2585 2586 2587 2588 2589\n",
      " 2590 2591 2592 2593 2594 2595 2596 2597 2598 2599 2600 2601 2602 2603\n",
      " 2604 2605 2606 2607 2608 2609 2610 2611 2612 2613 2614 2615 2616 2617\n",
      " 2618 2619 2620 2621 2622 2623 2624 2625 2626 2627 2628 2629 2630 2631\n",
      " 2632 2633 2634 2635 2636 2637 2638 2639 2640 2641 2642 2643 2644 2645\n",
      " 2646 2647 2648 2649 2650 2651 2652 2653 2654 2655 2656 2657 2658 2659\n",
      " 2660 2661 2662 2663 2664 2665 2666 2667 2668 2669 2670 2671 2672 2673\n",
      " 2674 2675 2676 2677 2678 2679 2680 2681 2682 2683 2684 2685 2686 2687\n",
      " 2688 2689 2690 2691 2692 2693 2694 2695 2696 2697 2698 2699 2700 2701\n",
      " 2702 2703 2704 2705 2706 2707 2708 2709 2710 2711 2712 2713 2714 2715\n",
      " 2716 2717 2718 2719 2720 2721 2722 2723 2724 2725 2726 2727 2728 2729\n",
      " 2730 2731 2732 2733 2734 2735 2736 2737 2738 2739 2740 2741 2742 2743\n",
      " 2744 2745 2746 2747 2748 2749 2750 2751 2752 2753 2754 2755 2756 2757\n",
      " 2758 2759 2760 2761 2762 2763 2764 2765 2766 2767 2768 2769 2770 2771\n",
      " 2772 2773 2774 2775 2776 2777 2778 2779 2780 2781 2782 2783 2784 2785\n",
      " 2786 2787 2788 2789 2790 2791 2792 2793 2794 2795 2796 2797 2798 2799\n",
      " 2800 2801 2802 2803 2804 2805 2806 2807 2808 2809 2810 2811 2812 2813\n",
      " 2814 2815 2816 2817 2818 2819 2820 2821 2822 2823 2824 2825 2826 2827\n",
      " 2828 2829 2830 2831 2832 2833 2834 2835 2836 2837 2838 2839 2840 2841\n",
      " 2842 2843 2844 2845 2846 2847 2848 2849 2850 2851 2852 2853 2854 2855\n",
      " 2856 2857 2858 2859 2860 2861 2862 2863 2864 2865 2866 2867 2868 2869\n",
      " 2870 2871 2872 2873 2874 2875 2876 2877 2878 2879 2880 2881 2882 2883\n",
      " 2884 2885 2886 2887 2888 2889 2890 2891 2892 2893 2894 2895 2896 2897\n",
      " 2898 2899 2900 2901 2902 2903 2904 2905 2906 2907 2908 2909 2910 2911\n",
      " 2912 2913 2914 2915 2916 2917 2918 2919 2920 2921 2922 2923 2924 2925\n",
      " 2926 2927 2928 2929 2930 2931 2932 2933 2934 2935 2936 2937 2938 2939\n",
      " 2940 2941 2942 2943 2944 2945 2946 2947 2948 2949 2950 2951 2952 2953\n",
      " 2954 2955 2956 2957 2958 2959 2960 2961 2962 2963 2964 2965 2966 2967\n",
      " 2968 2969 2970 2971 2972 2973 2974 2975 2976 2977 2978 2979 2980 2981\n",
      " 2982 2983 2984 2985 2986 2987 2988 2989 2990 2991 2992 2993 2994 2995\n",
      " 2996 2997 2998 2999]\n"
     ]
    }
   ],
   "source": [
    "print(np.arange(0, 3000, 1))\n",
    "np.set_printoptions(threshold=sys.maxsize)\n",
    "print(np.arange(0, 3000, 1))\n",
    "np.set_printoptions(threshold=1000)"
   ]
  },
  {
   "cell_type": "markdown",
   "metadata": {},
   "source": [
    "**15. Найти ближайшее к заданному значению число в заданном массиве**"
   ]
  },
  {
   "cell_type": "code",
   "execution_count": 659,
   "metadata": {},
   "outputs": [
    {
     "name": "stdout",
     "output_type": "stream",
     "text": [
      "19\n",
      "[14 21 99 69  2  2 65  4 66 55]\n",
      "[ 5  2 80 50 17 17 46 15 47 36]\n"
     ]
    },
    {
     "data": {
      "text/plain": [
       "21"
      ]
     },
     "execution_count": 659,
     "metadata": {},
     "output_type": "execute_result"
    }
   ],
   "source": [
    "number = np.random.randint(100)\n",
    "print(number)\n",
    "mass = np.random.randint(100, size = 10)\n",
    "\n",
    "print(mass)\n",
    "print(np.abs(mass - number))\n",
    "mass[np.argmin(np.abs(mass - number))]"
   ]
  },
  {
   "cell_type": "markdown",
   "metadata": {},
   "source": [
    "**16. Создать структурированный массив, представляющий координату (x,y) и цвет (r,g,b)**"
   ]
  },
  {
   "cell_type": "code",
   "execution_count": 644,
   "metadata": {},
   "outputs": [
    {
     "name": "stdout",
     "output_type": "stream",
     "text": [
      "[((0., 0.), (0., 0., 0.)) ((0., 0.), (0., 0., 0.))\n",
      " ((0., 0.), (0., 0., 0.)) ((0., 0.), (0., 0., 0.))\n",
      " ((0., 0.), (0., 0., 0.)) ((0., 0.), (0., 0., 0.))\n",
      " ((0., 0.), (0., 0., 0.)) ((0., 0.), (0., 0., 0.))\n",
      " ((0., 0.), (0., 0., 0.)) ((0., 0.), (0., 0., 0.))]\n"
     ]
    }
   ],
   "source": [
    "Z = np.zeros(10, [ ('position', [('x', float),\n",
    "                                 ('y', float)]),\n",
    "                  ('color',    [('r', float),\n",
    "                                ('g', float),\n",
    "                                ('b', float)])])\n",
    "print(Z)"
   ]
  },
  {
   "cell_type": "markdown",
   "metadata": {},
   "source": [
    "**17. Дан массив (100,2) координат, найти расстояние от каждой точки до каждой**"
   ]
  },
  {
   "cell_type": "code",
   "execution_count": 696,
   "metadata": {},
   "outputs": [
    {
     "name": "stdout",
     "output_type": "stream",
     "text": [
      "[[9 2]\n",
      " [4 8]\n",
      " [5 4]\n",
      " [0 8]\n",
      " [2 8]\n",
      " [7 8]\n",
      " [9 0]\n",
      " [6 7]\n",
      " [1 1]\n",
      " [2 4]]\n",
      "[[ 0.          7.81024968  4.47213595 10.81665383  9.21954446  6.32455532\n",
      "   2.          5.83095189  8.06225775  7.28010989]\n",
      " [ 7.81024968  0.          4.12310563  4.          2.          3.\n",
      "   9.43398113  2.23606798  7.61577311  4.47213595]\n",
      " [ 4.47213595  4.12310563  0.          6.40312424  5.          4.47213595\n",
      "   5.65685425  3.16227766  5.          3.        ]\n",
      " [10.81665383  4.          6.40312424  0.          2.          7.\n",
      "  12.04159458  6.08276253  7.07106781  4.47213595]\n",
      " [ 9.21954446  2.          5.          2.          0.          5.\n",
      "  10.63014581  4.12310563  7.07106781  4.        ]\n",
      " [ 6.32455532  3.          4.47213595  7.          5.          0.\n",
      "   8.24621125  1.41421356  9.21954446  6.40312424]\n",
      " [ 2.          9.43398113  5.65685425 12.04159458 10.63014581  8.24621125\n",
      "   0.          7.61577311  8.06225775  8.06225775]\n",
      " [ 5.83095189  2.23606798  3.16227766  6.08276253  4.12310563  1.41421356\n",
      "   7.61577311  0.          7.81024968  5.        ]\n",
      " [ 8.06225775  7.61577311  5.          7.07106781  7.07106781  9.21954446\n",
      "   8.06225775  7.81024968  0.          3.16227766]\n",
      " [ 7.28010989  4.47213595  3.          4.47213595  4.          6.40312424\n",
      "   8.06225775  5.          3.16227766  0.        ]]\n"
     ]
    }
   ],
   "source": [
    "A = np.random.randint(10, size = (10,2))\n",
    "print(A)\n",
    "X_1,X_2 = np.meshgrid(A[:,0],A[:,0])\n",
    "Y_1,Y_2 = np.meshgrid(A[:,1],A[:,1])\n",
    "B = ((X_1-X_2)**2+(Y_1-Y_2)**2)**(1/2)\n",
    "print(B)\n"
   ]
  },
  {
   "cell_type": "markdown",
   "metadata": {},
   "source": [
    "**18. Преобразовать массив из float в int**"
   ]
  },
  {
   "cell_type": "code",
   "execution_count": 1411,
   "metadata": {},
   "outputs": [
    {
     "name": "stdout",
     "output_type": "stream",
     "text": [
      "[99.86384148 99.90925151 99.12714377 99.77560749 99.54889564 99.22082716\n",
      " 99.16700526 99.30959916 99.39047104 99.92856174]\n"
     ]
    },
    {
     "data": {
      "text/plain": [
       "array([99, 99, 99, 99, 99, 99, 99, 99, 99, 99])"
      ]
     },
     "execution_count": 1411,
     "metadata": {},
     "output_type": "execute_result"
    }
   ],
   "source": [
    "A = np.random.uniform(100,size = 10)\n",
    "print(A)\n",
    "A = A.astype('i4')\n",
    "A"
   ]
  },
  {
   "cell_type": "markdown",
   "metadata": {},
   "source": [
    "**19. Дан файл:\n",
    "1,2,3,4,5\n",
    "6,,,7,8\n",
    ",,9,10,11\n",
    "Как прочитать его?**"
   ]
  },
  {
   "cell_type": "code",
   "execution_count": 1356,
   "metadata": {},
   "outputs": [
    {
     "data": {
      "text/plain": [
       "array([[ 1.,  2.,  3.,  4.,  5.],\n",
       "       [ 6., nan, nan,  7.,  8.],\n",
       "       [nan, nan,  9., 10., 11.]])"
      ]
     },
     "execution_count": 1356,
     "metadata": {},
     "output_type": "execute_result"
    }
   ],
   "source": [
    "f = open('file.txt')\n",
    "A = np.genfromtxt(f, delimiter=\",\")\n",
    "#A = A.astype('i4')\n",
    "A"
   ]
  },
  {
   "cell_type": "markdown",
   "metadata": {},
   "source": [
    "**20. Каков эквивалент функции enumerate для numpy массивов?**"
   ]
  },
  {
   "cell_type": "code",
   "execution_count": 1357,
   "metadata": {},
   "outputs": [
    {
     "name": "stdout",
     "output_type": "stream",
     "text": [
      "[[10 11 12 13 14]\n",
      " [15 16 17 18 19]]\n",
      "(0, 0) 10\n",
      "(0, 1) 11\n",
      "(0, 2) 12\n",
      "(0, 3) 13\n",
      "(0, 4) 14\n",
      "(1, 0) 15\n",
      "(1, 1) 16\n",
      "(1, 2) 17\n",
      "(1, 3) 18\n",
      "(1, 4) 19\n"
     ]
    }
   ],
   "source": [
    "A = np.arange(10,20).reshape(2,5)\n",
    "print(A)\n",
    "for index, x in np.ndenumerate(A):\n",
    "    print(index, x)\n",
    "#for index in np.ndindex(np.shape(A)):\n",
    "#    print(index, A[index])"
   ]
  },
  {
   "cell_type": "markdown",
   "metadata": {},
   "source": [
    "**21. Сформировать 2D массив с распределением Гаусса**"
   ]
  },
  {
   "cell_type": "code",
   "execution_count": 1412,
   "metadata": {},
   "outputs": [
    {
     "name": "stdout",
     "output_type": "stream",
     "text": [
      "[[-5.00000000e+00 -4.89898990e+00 -4.79797980e+00 -4.69696970e+00\n",
      "  -4.59595960e+00 -4.49494949e+00 -4.39393939e+00 -4.29292929e+00\n",
      "  -4.19191919e+00 -4.09090909e+00 -3.98989899e+00 -3.88888889e+00\n",
      "  -3.78787879e+00 -3.68686869e+00 -3.58585859e+00 -3.48484848e+00\n",
      "  -3.38383838e+00 -3.28282828e+00 -3.18181818e+00 -3.08080808e+00\n",
      "  -2.97979798e+00 -2.87878788e+00 -2.77777778e+00 -2.67676768e+00\n",
      "  -2.57575758e+00 -2.47474747e+00 -2.37373737e+00 -2.27272727e+00\n",
      "  -2.17171717e+00 -2.07070707e+00 -1.96969697e+00 -1.86868687e+00\n",
      "  -1.76767677e+00 -1.66666667e+00 -1.56565657e+00 -1.46464646e+00\n",
      "  -1.36363636e+00 -1.26262626e+00 -1.16161616e+00 -1.06060606e+00\n",
      "  -9.59595960e-01 -8.58585859e-01 -7.57575758e-01 -6.56565657e-01\n",
      "  -5.55555556e-01 -4.54545455e-01 -3.53535354e-01 -2.52525253e-01\n",
      "  -1.51515152e-01 -5.05050505e-02  5.05050505e-02  1.51515152e-01\n",
      "   2.52525253e-01  3.53535354e-01  4.54545455e-01  5.55555556e-01\n",
      "   6.56565657e-01  7.57575758e-01  8.58585859e-01  9.59595960e-01\n",
      "   1.06060606e+00  1.16161616e+00  1.26262626e+00  1.36363636e+00\n",
      "   1.46464646e+00  1.56565657e+00  1.66666667e+00  1.76767677e+00\n",
      "   1.86868687e+00  1.96969697e+00  2.07070707e+00  2.17171717e+00\n",
      "   2.27272727e+00  2.37373737e+00  2.47474747e+00  2.57575758e+00\n",
      "   2.67676768e+00  2.77777778e+00  2.87878788e+00  2.97979798e+00\n",
      "   3.08080808e+00  3.18181818e+00  3.28282828e+00  3.38383838e+00\n",
      "   3.48484848e+00  3.58585859e+00  3.68686869e+00  3.78787879e+00\n",
      "   3.88888889e+00  3.98989899e+00  4.09090909e+00  4.19191919e+00\n",
      "   4.29292929e+00  4.39393939e+00  4.49494949e+00  4.59595960e+00\n",
      "   4.69696970e+00  4.79797980e+00  4.89898990e+00  5.00000000e+00]\n",
      " [ 1.48671951e-06  2.45106104e-06  3.99989037e-06  6.46116639e-06\n",
      "   1.03310066e-05  1.63509589e-05  2.56160812e-05  3.97238224e-05\n",
      "   6.09759040e-05  9.26476353e-05  1.39341123e-04  2.07440309e-04\n",
      "   3.05686225e-04  4.45889725e-04  6.43795498e-04  9.20104770e-04\n",
      "   1.30165384e-03  1.82273110e-03  2.52649578e-03  3.46643792e-03\n",
      "   4.70779076e-03  6.32877643e-03  8.42153448e-03  1.10925548e-02\n",
      "   1.44624148e-02  1.86646099e-02  2.38432745e-02  3.01496139e-02\n",
      "   3.77369231e-02  4.67541424e-02  5.73380051e-02  6.96039584e-02\n",
      "   8.36361772e-02  9.94771388e-02  1.17117360e-01  1.36486009e-01\n",
      "   1.57443188e-01  1.79774665e-01  2.03189836e-01  2.27323506e-01\n",
      "   2.51741947e-01  2.75953371e-01  2.99422683e-01  3.21590023e-01\n",
      "   3.41892294e-01  3.59786558e-01  3.74773979e-01  3.86422853e-01\n",
      "   3.94389234e-01  3.98433802e-01  3.98433802e-01  3.94389234e-01\n",
      "   3.86422853e-01  3.74773979e-01  3.59786558e-01  3.41892294e-01\n",
      "   3.21590023e-01  2.99422683e-01  2.75953371e-01  2.51741947e-01\n",
      "   2.27323506e-01  2.03189836e-01  1.79774665e-01  1.57443188e-01\n",
      "   1.36486009e-01  1.17117360e-01  9.94771388e-02  8.36361772e-02\n",
      "   6.96039584e-02  5.73380051e-02  4.67541424e-02  3.77369231e-02\n",
      "   3.01496139e-02  2.38432745e-02  1.86646099e-02  1.44624148e-02\n",
      "   1.10925548e-02  8.42153448e-03  6.32877643e-03  4.70779076e-03\n",
      "   3.46643792e-03  2.52649578e-03  1.82273110e-03  1.30165384e-03\n",
      "   9.20104770e-04  6.43795498e-04  4.45889725e-04  3.05686225e-04\n",
      "   2.07440309e-04  1.39341123e-04  9.26476353e-05  6.09759040e-05\n",
      "   3.97238224e-05  2.56160812e-05  1.63509589e-05  1.03310066e-05\n",
      "   6.46116639e-06  3.99989037e-06  2.45106104e-06  1.48671951e-06]]\n"
     ]
    },
    {
     "data": {
      "text/plain": [
       "[<matplotlib.lines.Line2D at 0x27881eb0>]"
      ]
     },
     "execution_count": 1412,
     "metadata": {},
     "output_type": "execute_result"
    },
    {
     "data": {
      "image/png": "[encoded data removed]",
      "text/plain": [
       "<Figure size 432x288 with 1 Axes>"
      ]
     },
     "metadata": {
      "needs_background": "light"
     },
     "output_type": "display_data"
    }
   ],
   "source": [
    "from scipy.stats import norm\n",
    "B = np.linspace(-5,5,100)\n",
    "A = norm.pdf(B)\n",
    "C = np.vstack([B,A])\n",
    "print(C)\n",
    "plt.plot( C[0],C[1], marker='.', color='k', linestyle='none')"
   ]
  },
  {
   "cell_type": "code",
   "execution_count": 1415,
   "metadata": {},
   "outputs": [
    {
     "name": "stdout",
     "output_type": "stream",
     "text": [
      "Help on method pdf in module scipy.stats._distn_infrastructure:\n",
      "\n",
      "pdf(x, *args, **kwds) method of scipy.stats._continuous_distns.norm_gen instance\n",
      "    Probability density function at x of the given RV.\n",
      "    \n",
      "    Parameters\n",
      "    ----------\n",
      "    x : array_like\n",
      "        quantiles\n",
      "    arg1, arg2, arg3,... : array_like\n",
      "        The shape parameter(s) for the distribution (see docstring of the\n",
      "        instance object for more information)\n",
      "    loc : array_like, optional\n",
      "        location parameter (default=0)\n",
      "    scale : array_like, optional\n",
      "        scale parameter (default=1)\n",
      "    \n",
      "    Returns\n",
      "    -------\n",
      "    pdf : ndarray\n",
      "        Probability density function evaluated at x\n",
      "\n"
     ]
    }
   ],
   "source": [
    "help(norm.pdf)"
   ]
  },
  {
   "cell_type": "markdown",
   "metadata": {},
   "source": [
    "**22. Случайно расположить p элементов в 2D массив**"
   ]
  },
  {
   "cell_type": "code",
   "execution_count": 925,
   "metadata": {},
   "outputs": [
    {
     "name": "stdout",
     "output_type": "stream",
     "text": [
      "[[10 11 12 13 14]\n",
      " [15 16 17 18 19]]\n",
      "p-элементы [5 8 7 6 6]\n",
      "ind [9 4 6 2 0]\n",
      "[[ 6 11  6 13  8]\n",
      " [15  7 17 18  5]]\n"
     ]
    }
   ],
   "source": [
    "A = np.arange(10,20).reshape(2,5)\n",
    "print(A)\n",
    "p = 5\n",
    "mass_p = np.random.randint(10, size = p)\n",
    "print(\"p-элементы\",mass_p)\n",
    "ind = np.random.permutation(A.size)[:p]\n",
    "print(\"ind\",ind)\n",
    "\n",
    "A.flat[ind] = mass_p\n",
    "print(A)"
   ]
  },
  {
   "cell_type": "markdown",
   "metadata": {},
   "source": [
    "**23. Отнять среднее из каждой строки в матрице**"
   ]
  },
  {
   "cell_type": "code",
   "execution_count": 964,
   "metadata": {},
   "outputs": [
    {
     "name": "stdout",
     "output_type": "stream",
     "text": [
      "[[ 7.  11.8 13.8]\n",
      " [ 6.2 23.2  8.8]]\n",
      "[[[ 6 14 17]\n",
      "  [ 0 11  3]\n",
      "  [ 2  4 12]\n",
      "  [14 21 18]\n",
      "  [13  9 19]]\n",
      "\n",
      " [[ 4 17 10]\n",
      "  [ 1 17  7]\n",
      "  [11 27 13]\n",
      "  [ 2 29  8]\n",
      "  [13 26  6]]]\n",
      "[[[ -1.    2.2   3.2]\n",
      "  [ -7.   -0.8 -10.8]\n",
      "  [ -5.   -7.8  -1.8]\n",
      "  [  7.    9.2   4.2]\n",
      "  [  6.   -2.8   5.2]]\n",
      "\n",
      " [[ -2.2  -6.2   1.2]\n",
      "  [ -5.2  -6.2  -1.8]\n",
      "  [  4.8   3.8   4.2]\n",
      "  [ -4.2   5.8  -0.8]\n",
      "  [  6.8   2.8  -2.8]]]\n"
     ]
    }
   ],
   "source": [
    "X = np.random.randint(30 ,size = (2,5,3))\n",
    "Y = X - X.mean(axis=1, keepdims=True)\n",
    "print(np.mean(X, axis = 1))\n",
    "print(X)\n",
    "print(Y)"
   ]
  },
  {
   "cell_type": "markdown",
   "metadata": {},
   "source": [
    "**24. Отсортировать матрицу по n-ому столбцу**"
   ]
  },
  {
   "cell_type": "code",
   "execution_count": 1003,
   "metadata": {},
   "outputs": [
    {
     "name": "stdout",
     "output_type": "stream",
     "text": [
      "[[41 63 47  9 38]\n",
      " [96 37  1 57 29]\n",
      " [94 75 55  9 35]\n",
      " [57 77 40 34 12]\n",
      " [ 8 41 17 91 77]]\n",
      "[[ 8 63 47  9 38]\n",
      " [41 37  1 57 29]\n",
      " [57 75 55  9 35]\n",
      " [94 77 40 34 12]\n",
      " [96 41 17 91 77]]\n"
     ]
    }
   ],
   "source": [
    "A = np.random.randint(100, size = (5,5))\n",
    "n = 0\n",
    "print(A)\n",
    "A[:,n] = np.sort(A[:,n])\n",
    "print(A)"
   ]
  },
  {
   "cell_type": "markdown",
   "metadata": {},
   "source": [
    "**25. Определить, есть ли в 2D массиве нулевые столбцы**"
   ]
  },
  {
   "cell_type": "code",
   "execution_count": 1140,
   "metadata": {},
   "outputs": [
    {
     "name": "stdout",
     "output_type": "stream",
     "text": [
      "[[0 0 1 1 0]\n",
      " [0 0 1 1 0]\n",
      " [0 0 1 1 0]\n",
      " [1 0 0 0 0]\n",
      " [1 0 0 1 1]]\n",
      "[0.4 0.  0.6 0.8 0.2]\n",
      "True\n",
      "5 4\n"
     ]
    }
   ],
   "source": [
    "A = np.random.randint(0,2, size = (5,5))\n",
    "print(A)\n",
    "#A[:,0] = 0\n",
    "#print(A)\n",
    "print(A.mean(axis=0))\n",
    "A = A.mean(axis=0)\n",
    "if A.size > np.count_nonzero(A):\n",
    "    print(True)\n",
    "else: \n",
    "    print(False)\n",
    "print(A.size,np.count_nonzero(A))"
   ]
  },
  {
   "cell_type": "markdown",
   "metadata": {},
   "source": [
    "**26. Дан массив, добавить 1 к каждому элементу с индексом, заданным в другом массиве (осторожно с повторами)**"
   ]
  },
  {
   "cell_type": "code",
   "execution_count": 1164,
   "metadata": {
    "scrolled": true
   },
   "outputs": [
    {
     "name": "stdout",
     "output_type": "stream",
     "text": [
      "[6 4 8 3 1 4 4 9 2 5]\n",
      "[0. 1. 1. 1. 3. 1. 1. 0. 1. 1.]\n"
     ]
    }
   ],
   "source": [
    "A = np.zeros(10)\n",
    "B = np.random.randint(0,A.size,10)\n",
    "print(B)\n",
    "#A[B] +=1\n",
    "#print(A)\n",
    "for i in B:\n",
    "    A[i] +=1\n",
    "print(A)"
   ]
  },
  {
   "cell_type": "markdown",
   "metadata": {},
   "source": [
    "**27. Дан массив (w,h,3) (картинка) dtype=ubyte, посчитать количество различных цветов**"
   ]
  },
  {
   "cell_type": "code",
   "execution_count": 1394,
   "metadata": {},
   "outputs": [
    {
     "name": "stdout",
     "output_type": "stream",
     "text": [
      "(10000, 3)\n",
      "(9996, 3)\n"
     ]
    }
   ],
   "source": [
    "w,h = 100,100\n",
    "I = np.random.randint(0, 256, (h,w,3)).astype(np.ubyte)\n",
    "\n",
    "#I[0,0:2] = 0\n",
    "I = I.reshape(-1,3)\n",
    "\n",
    "print(I.shape)\n",
    "print(np.unique(I,axis = 0).shape)"
   ]
  },
  {
   "cell_type": "markdown",
   "metadata": {},
   "source": [
    "**28. Дан четырехмерный массив, посчитать сумму по последним двум осям**"
   ]
  },
  {
   "cell_type": "code",
   "execution_count": 1331,
   "metadata": {},
   "outputs": [
    {
     "name": "stdout",
     "output_type": "stream",
     "text": [
      "[[33 44 38]\n",
      " [47 45 57]\n",
      " [58 54 45]\n",
      " [40 47 54]]\n"
     ]
    }
   ],
   "source": [
    "A = np.random.randint(10, size = (4,3,2,5))\n",
    "print(A.sum(axis = (-1,-2)))"
   ]
  },
  {
   "cell_type": "markdown",
   "metadata": {},
   "source": [
    "**29. Найти диагональные элементы произведения матриц**"
   ]
  },
  {
   "cell_type": "code",
   "execution_count": 1354,
   "metadata": {},
   "outputs": [
    {
     "name": "stdout",
     "output_type": "stream",
     "text": [
      "[[ 42  57  33]\n",
      " [ 81 132  90]\n",
      " [ 63 115  99]]\n",
      "[ 42 132  99]\n"
     ]
    }
   ],
   "source": [
    "A = np.random.randint(10, size = (3,3))\n",
    "B = np.random.randint(10, size = (3,3))\n",
    "print(np.dot(A,B))\n",
    "print(np.diag(np.dot(A,B)))"
   ]
  }
 ],
 "metadata": {
  "kernelspec": {
   "display_name": "Python 3",
   "language": "python",
   "name": "python3"
  },
  "language_info": {
   "codemirror_mode": {
    "name": "ipython",
    "version": 3
   },
   "file_extension": ".py",
   "mimetype": "text/x-python",
   "name": "python",
   "nbconvert_exporter": "python",
   "pygments_lexer": "ipython3",
   "version": "3.7.4"
  }
 },
 "nbformat": 4,
 "nbformat_minor": 4
}
