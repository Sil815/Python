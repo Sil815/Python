{
 "cells": [
  {
   "cell_type": "markdown",
   "metadata": {},
   "source": [
    "### Силантьева Ольга Сергеевна Т120-101М-20"
   ]
  },
  {
   "cell_type": "code",
   "execution_count": 1,
   "metadata": {},
   "outputs": [],
   "source": [
    "import sys\n",
    "import numpy as np\n",
    "import pandas as pd"
   ]
  },
  {
   "cell_type": "markdown",
   "metadata": {},
   "source": [
    "**1. Найти евклидово расстоняие между двумя объектами Series**"
   ]
  },
  {
   "cell_type": "code",
   "execution_count": 94,
   "metadata": {},
   "outputs": [
    {
     "data": {
      "text/plain": [
       "10.246950765959598"
      ]
     },
     "execution_count": 94,
     "metadata": {},
     "output_type": "execute_result"
    }
   ],
   "source": [
    "n = 3\n",
    "s1 = pd.Series(np.random.randint(1, 10, size=n))\n",
    "s2 = pd.Series(np.random.randint(1, 10, size=n))\n",
    "np.linalg.norm(s1-s2)\n",
    "#np.sum((s1-s2)**2)**(1/2)"
   ]
  },
  {
   "cell_type": "markdown",
   "metadata": {},
   "source": [
    "**2. Найти индексы локальных максимумов в объекте Series**"
   ]
  },
  {
   "cell_type": "code",
   "execution_count": 131,
   "metadata": {},
   "outputs": [
    {
     "name": "stdout",
     "output_type": "stream",
     "text": [
      "0    10\n",
      "1    14\n",
      "2    16\n",
      "3     4\n",
      "4     1\n",
      "5    17\n",
      "6     1\n",
      "7    16\n",
      "dtype: int32\n",
      "[2 5]\n"
     ]
    }
   ],
   "source": [
    "s = pd.Series(np.random.randint(0, 20, size= 8))\n",
    "print(s)\n",
    "ind_min = np.diff(np.sign(np.diff(s)))\n",
    "print(np.where(ind_min == -2)[0] + 1)"
   ]
  },
  {
   "cell_type": "markdown",
   "metadata": {},
   "source": [
    "**3. Заменить пробелы наименее часто встречающимся символом**"
   ]
  },
  {
   "cell_type": "code",
   "execution_count": 243,
   "metadata": {},
   "outputs": [
    {
     "name": "stdout",
     "output_type": "stream",
     "text": [
      "     13\n",
      "и     9\n",
      "о     8\n",
      "а     7\n",
      "е     6\n",
      "т     6\n",
      "й     4\n",
      "п     4\n",
      "м     4\n",
      "л     4\n",
      "н     4\n",
      "к     3\n",
      "р     3\n",
      "ж     2\n",
      "А     2\n",
      "с     2\n",
      "з     2\n",
      "ы     2\n",
      "д     2\n",
      "э     1\n",
      "б     1\n",
      "у     1\n",
      "г     1\n",
      "ч     1\n",
      "ш     1\n",
      "-     1\n",
      ",     1\n",
      "ь     1\n",
      "я     1\n",
      "—     1\n",
      ".     1\n",
      "ц     1\n",
      "dtype: int64\n"
     ]
    },
    {
     "data": {
      "text/plain": [
       "'Аджайл-коучи—иэтоиспециалист,икоторыйипомогаетикомпаниииизменитьиобразимышленияиииперейтиинаиАджайл.'"
      ]
     },
     "execution_count": 243,
     "metadata": {},
     "output_type": "execute_result"
    }
   ],
   "source": [
    "str = 'Аджайл-коуч — это специалист, который помогает компании изменить образ мышления и перейти на Аджайл.' \n",
    "s = pd.Series(list(str))\n",
    "print(s.value_counts())\n",
    "s[s.isin([' '])] = s.value_counts().index[1]\n",
    "''.join(s)"
   ]
  },
  {
   "cell_type": "markdown",
   "metadata": {},
   "source": [
    "**4. Создать объект Series, который содержит в индексах даты выходных дней субботы, а в значениях случайные числа от 1 до 10**"
   ]
  },
  {
   "cell_type": "code",
   "execution_count": 156,
   "metadata": {},
   "outputs": [
    {
     "name": "stdout",
     "output_type": "stream",
     "text": [
      "2020-12-05    4\n",
      "2020-12-12    6\n",
      "2020-12-19    7\n",
      "2020-12-26    2\n",
      "2021-01-02    5\n",
      "2021-01-09    5\n",
      "2021-01-16    6\n",
      "2021-01-23    2\n",
      "2021-01-30    5\n",
      "2021-02-06    6\n",
      "Freq: W-SAT, dtype: int32\n"
     ]
    }
   ],
   "source": [
    "n = 10\n",
    "data = pd.date_range('2020-12-01', periods=n, freq='W-SAT')\n",
    "s = pd.Series(np.random.randint(1,10,size = n),index = data)\n",
    "print(s)"
   ]
  },
  {
   "cell_type": "markdown",
   "metadata": {},
   "source": [
    "**5. Заполнить пропущенные даты, значением выше (заполненной даты)**"
   ]
  },
  {
   "cell_type": "code",
   "execution_count": 247,
   "metadata": {
    "scrolled": true
   },
   "outputs": [
    {
     "name": "stdout",
     "output_type": "stream",
     "text": [
      "2020-12-05    5\n",
      "2020-12-12    7\n",
      "2020-12-19    4\n",
      "Freq: W-SAT, dtype: int32\n"
     ]
    },
    {
     "data": {
      "text/plain": [
       "2020-12-05    5\n",
       "2020-12-06    5\n",
       "2020-12-07    5\n",
       "2020-12-08    5\n",
       "2020-12-09    5\n",
       "2020-12-10    5\n",
       "2020-12-11    5\n",
       "2020-12-12    7\n",
       "2020-12-13    7\n",
       "2020-12-14    7\n",
       "2020-12-15    7\n",
       "2020-12-16    7\n",
       "2020-12-17    7\n",
       "2020-12-18    7\n",
       "2020-12-19    4\n",
       "Freq: D, dtype: int32"
      ]
     },
     "execution_count": 247,
     "metadata": {},
     "output_type": "execute_result"
    }
   ],
   "source": [
    "n = 3\n",
    "data = pd.date_range('2020-12-01', periods=n, freq='W-SAT')\n",
    "s = pd.Series(np.random.randint(1,10,size = n),index = data)\n",
    "print(s)\n",
    "s.resample('D').ffill()"
   ]
  },
  {
   "cell_type": "markdown",
   "metadata": {},
   "source": [
    "**6. Вычислить автокорреляцию объекта Series**"
   ]
  },
  {
   "cell_type": "code",
   "execution_count": 237,
   "metadata": {},
   "outputs": [
    {
     "name": "stdout",
     "output_type": "stream",
     "text": [
      "[6.2665 4.1772 1.3808 8.7553 9.331  1.1245 2.9868 1.4001 2.1761 8.691 ]\n",
      "[1.0, -0.0165, -0.4903, -0.059, -0.3532, 0.5759, 0.8087, -0.9417, -1.0, nan]\n"
     ]
    }
   ],
   "source": [
    "n = 10\n",
    " \n",
    "s = pd.Series(np.random.uniform(0, 10, n).round(4))\n",
    "print(s.values)\n",
    "\n",
    "autocorr = [s.autocorr(lag=i).round(4) for i in range(n)] \n",
    "print(autocorr)\n"
   ]
  }
 ],
 "metadata": {
  "kernelspec": {
   "display_name": "Python 3",
   "language": "python",
   "name": "python3"
  },
  "language_info": {
   "codemirror_mode": {
    "name": "ipython",
    "version": 3
   },
   "file_extension": ".py",
   "mimetype": "text/x-python",
   "name": "python",
   "nbconvert_exporter": "python",
   "pygments_lexer": "ipython3",
   "version": "3.7.4"
  }
 },
 "nbformat": 4,
 "nbformat_minor": 4
}
