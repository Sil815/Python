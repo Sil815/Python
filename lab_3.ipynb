{
 "cells": [
  {
   "cell_type": "markdown",
   "metadata": {},
   "source": [
    "### Силантьева Ольга Сергеевна Т120-101М-20"
   ]
  },
  {
   "cell_type": "code",
   "execution_count": 55,
   "metadata": {},
   "outputs": [],
   "source": [
    "import numpy as np"
   ]
  },
  {
   "cell_type": "markdown",
   "metadata": {},
   "source": [
    "**1. Дан вектор [1, 2, 3, 4, 5], построить новый вектор с тремя нулями между каждым значением**"
   ]
  },
  {
   "cell_type": "code",
   "execution_count": 56,
   "metadata": {},
   "outputs": [
    {
     "name": "stdout",
     "output_type": "stream",
     "text": [
      "[1 2 3 4 5]\n",
      "[]\n"
     ]
    },
    {
     "data": {
      "text/plain": [
       "array([1, 0, 0, 0, 2, 0, 0, 0, 3, 0, 0, 0, 4, 0, 0, 0])"
      ]
     },
     "execution_count": 56,
     "metadata": {},
     "output_type": "execute_result"
    }
   ],
   "source": [
    "A = np.arange(1,6)\n",
    "print(A)\n",
    "B = np.arange(0)\n",
    "print(B)\n",
    "for i in range(A.size-1):\n",
    "    B = np.append(B,A[i])\n",
    "    B = np.append(B,[0,0,0])\n",
    "B"
   ]
  },
  {
   "cell_type": "markdown",
   "metadata": {},
   "source": [
    "**2. Поменять 2 строки в матрице**"
   ]
  },
  {
   "cell_type": "code",
   "execution_count": 57,
   "metadata": {},
   "outputs": [
    {
     "data": {
      "text/plain": [
       "array([[ 3,  4,  5],\n",
       "       [ 0,  1,  2],\n",
       "       [ 6,  7,  8],\n",
       "       [ 9, 10, 11]])"
      ]
     },
     "execution_count": 57,
     "metadata": {},
     "output_type": "execute_result"
    }
   ],
   "source": [
    "A = np.arange(12).reshape(-1,3)\n",
    "str = A[0].copy()\n",
    "A[0] = A[1]\n",
    "A[1] = str\n",
    "\n",
    "A"
   ]
  },
  {
   "cell_type": "markdown",
   "metadata": {},
   "source": [
    "**3. Рассмотрим набор из 10 троек, описывающих 10 треугольников (с общими вершинами), найти множество уникальных отрезков, составляющих все треугольники**"
   ]
  },
  {
   "cell_type": "code",
   "execution_count": 58,
   "metadata": {},
   "outputs": [
    {
     "name": "stdout",
     "output_type": "stream",
     "text": [
      "[[23 25 51]\n",
      " [70 48 21]\n",
      " [87 36 55]\n",
      " [16 34 60]\n",
      " [23 46 74]\n",
      " [61 75 84]\n",
      " [37 73 62]\n",
      " [72 73  3]\n",
      " [79 24 99]\n",
      " [40  1 46]]\n",
      "[[23 23 25 25 51 51]\n",
      " [70 70 48 48 21 21]\n",
      " [87 87 36 36 55 55]\n",
      " [16 16 34 34 60 60]\n",
      " [23 23 46 46 74 74]\n",
      " [61 61 75 75 84 84]\n",
      " [37 37 73 73 62 62]\n",
      " [72 72 73 73  3  3]\n",
      " [79 79 24 24 99 99]\n",
      " [40 40  1  1 46 46]]\n"
     ]
    },
    {
     "data": {
      "text/plain": [
       "array([[ 1, 46],\n",
       "       [ 3, 72],\n",
       "       [16, 34],\n",
       "       [21, 70],\n",
       "       [23, 25],\n",
       "       [23, 46],\n",
       "       [24, 99],\n",
       "       [25, 51],\n",
       "       [34, 60],\n",
       "       [36, 55],\n",
       "       [37, 73],\n",
       "       [40,  1],\n",
       "       [46, 40],\n",
       "       [46, 74],\n",
       "       [48, 21],\n",
       "       [51, 23],\n",
       "       [55, 87],\n",
       "       [60, 16],\n",
       "       [61, 75],\n",
       "       [62, 37],\n",
       "       [70, 48],\n",
       "       [72, 73],\n",
       "       [73,  3],\n",
       "       [73, 62],\n",
       "       [74, 23],\n",
       "       [75, 84],\n",
       "       [79, 24],\n",
       "       [84, 61],\n",
       "       [87, 36],\n",
       "       [99, 79]])"
      ]
     },
     "execution_count": 58,
     "metadata": {},
     "output_type": "execute_result"
    }
   ],
   "source": [
    "A = np.random.randint(100,size = (10,3))\n",
    "print(A)\n",
    "A = A.repeat(2,axis = 1)\n",
    "print(A)\n",
    "B = np.concatenate([A[:,1:],A[:,0:1]], axis = 1)\n",
    "B = B.reshape(-1,2)\n",
    "np.unique(B,axis = 0)"
   ]
  },
  {
   "cell_type": "markdown",
   "metadata": {},
   "source": [
    "**4. Дан массив C; создать массив A, что np.bincount(A) == C**"
   ]
  },
  {
   "cell_type": "code",
   "execution_count": 59,
   "metadata": {},
   "outputs": [
    {
     "name": "stdout",
     "output_type": "stream",
     "text": [
      "[0 3 2 0 2]\n",
      "[0 3 2 0 2]\n"
     ]
    }
   ],
   "source": [
    "C = np.array([0,3,2,0,2])\n",
    "A =[]\n",
    "for i in range(C.size):\n",
    "    A = np.append(A, np.full(C[i], i)).astype('i4')\n",
    "print(C)\n",
    "print(np.bincount(A))"
   ]
  },
  {
   "cell_type": "markdown",
   "metadata": {},
   "source": [
    "**5. Посчитать среднее, используя плавающее окно**"
   ]
  },
  {
   "cell_type": "code",
   "execution_count": 60,
   "metadata": {},
   "outputs": [
    {
     "name": "stdout",
     "output_type": "stream",
     "text": [
      "[19  3  4 17 16  9 13 12 15  8]\n",
      "19.0\n",
      "11.0\n",
      "8.666666666666666\n",
      "8.0\n",
      "12.333333333333334\n",
      "14.0\n",
      "12.666666666666666\n",
      "11.333333333333334\n",
      "13.333333333333334\n",
      "11.666666666666666\n"
     ]
    }
   ],
   "source": [
    "A = np.random.randint(20,size = (10))\n",
    "print(A)\n",
    "for i in range(1,A.size+1):\n",
    "    n = 3\n",
    "    if i-n < 0 :\n",
    "        n = i\n",
    "    print(np.average(A[i-n:i]) )"
   ]
  },
  {
   "cell_type": "markdown",
   "metadata": {},
   "source": [
    "**6. Дан вектор Z, построить матрицу, первая строка которой (Z[0],Z[1],Z[2]), каждая последующая сдвинута на 1 (последняя (Z[-3],Z[-2],Z[-1]))**"
   ]
  },
  {
   "cell_type": "code",
   "execution_count": 61,
   "metadata": {},
   "outputs": [
    {
     "name": "stdout",
     "output_type": "stream",
     "text": [
      "[[0 1 2]\n",
      " [1 2 3]\n",
      " [2 3 4]\n",
      " [3 4 5]]\n"
     ]
    }
   ],
   "source": [
    "Z = np.arange(21)\n",
    "A = Z[:3].copy().reshape(1,3)\n",
    "for i in range(1,4):\n",
    "    A = np.concatenate([A,Z[i:i+3].reshape(1,3)], axis = 0)\n",
    "    \n",
    "print(A)"
   ]
  },
  {
   "cell_type": "markdown",
   "metadata": {},
   "source": [
    "**7. Инвертировать булево значение, или поменять знак у числового массива без создания нового**"
   ]
  },
  {
   "cell_type": "code",
   "execution_count": 62,
   "metadata": {},
   "outputs": [
    {
     "name": "stdout",
     "output_type": "stream",
     "text": [
      "[False False False  True False]\n",
      "[ True  True  True False  True]\n",
      "[ 8.84125134 -9.54264075 -0.26344539  5.23767378  1.92629303]\n",
      "[-8.84125134  9.54264075  0.26344539 -5.23767378 -1.92629303]\n"
     ]
    }
   ],
   "source": [
    "A = np.random.randint(0,2,5,dtype = np.bool)\n",
    "print(A)\n",
    "print(~A)\n",
    "\n",
    "Z = np.random.uniform(-10,10,5,)\n",
    "print(Z)\n",
    "Z[:] *=-1\n",
    "print(Z)"
   ]
  },
  {
   "cell_type": "markdown",
   "metadata": {},
   "source": [
    "**8. Посчитать ранг матрицы**"
   ]
  },
  {
   "cell_type": "code",
   "execution_count": 63,
   "metadata": {},
   "outputs": [
    {
     "data": {
      "text/plain": [
       "5"
      ]
     },
     "execution_count": 63,
     "metadata": {},
     "output_type": "execute_result"
    }
   ],
   "source": [
    "A =np.random.randint(20,size = (5,5))\n",
    "np.linalg.matrix_rank(A)"
   ]
  },
  {
   "cell_type": "markdown",
   "metadata": {},
   "source": [
    "**9. Найти наиболее частое значение в массиве**"
   ]
  },
  {
   "cell_type": "code",
   "execution_count": 64,
   "metadata": {},
   "outputs": [
    {
     "name": "stdout",
     "output_type": "stream",
     "text": [
      "[[10  6  8  0  5]\n",
      " [ 0  8 18  0 19]\n",
      " [ 7  7 14  0  6]\n",
      " [16 17  7 13 10]\n",
      " [ 6 12 15 18 17]]\n"
     ]
    },
    {
     "data": {
      "text/plain": [
       "0"
      ]
     },
     "execution_count": 64,
     "metadata": {},
     "output_type": "execute_result"
    }
   ],
   "source": [
    "A =np.random.randint(20,size = (5,5))\n",
    "print(A)\n",
    "np.bincount(A.flat).argmax()"
   ]
  },
  {
   "cell_type": "markdown",
   "metadata": {},
   "source": [
    "**10. Извлечь все смежные 3x3 блоки из 10x10 матрицы**"
   ]
  },
  {
   "cell_type": "code",
   "execution_count": 65,
   "metadata": {},
   "outputs": [
    {
     "name": "stdout",
     "output_type": "stream",
     "text": [
      "[[ 0  1  2  3  4  5  6  7  8  9]\n",
      " [10 11 12 13 14 15 16 17 18 19]\n",
      " [20 21 22 23 24 25 26 27 28 29]\n",
      " [30 31 32 33 34 35 36 37 38 39]\n",
      " [40 41 42 43 44 45 46 47 48 49]\n",
      " [50 51 52 53 54 55 56 57 58 59]\n",
      " [60 61 62 63 64 65 66 67 68 69]\n",
      " [70 71 72 73 74 75 76 77 78 79]\n",
      " [80 81 82 83 84 85 86 87 88 89]\n",
      " [90 91 92 93 94 95 96 97 98 99]]\n",
      "[[[[ 0  1  2]\n",
      "   [10 11 12]\n",
      "   [20 21 22]]\n",
      "\n",
      "  [[ 1  2  3]\n",
      "   [11 12 13]\n",
      "   [21 22 23]]\n",
      "\n",
      "  [[ 2  3  4]\n",
      "   [12 13 14]\n",
      "   [22 23 24]]\n",
      "\n",
      "  [[ 3  4  5]\n",
      "   [13 14 15]\n",
      "   [23 24 25]]\n",
      "\n",
      "  [[ 4  5  6]\n",
      "   [14 15 16]\n",
      "   [24 25 26]]\n",
      "\n",
      "  [[ 5  6  7]\n",
      "   [15 16 17]\n",
      "   [25 26 27]]\n",
      "\n",
      "  [[ 6  7  8]\n",
      "   [16 17 18]\n",
      "   [26 27 28]]\n",
      "\n",
      "  [[ 7  8  9]\n",
      "   [17 18 19]\n",
      "   [27 28 29]]]\n",
      "\n",
      "\n",
      " [[[10 11 12]\n",
      "   [20 21 22]\n",
      "   [30 31 32]]\n",
      "\n",
      "  [[11 12 13]\n",
      "   [21 22 23]\n",
      "   [31 32 33]]\n",
      "\n",
      "  [[12 13 14]\n",
      "   [22 23 24]\n",
      "   [32 33 34]]\n",
      "\n",
      "  [[13 14 15]\n",
      "   [23 24 25]\n",
      "   [33 34 35]]\n",
      "\n",
      "  [[14 15 16]\n",
      "   [24 25 26]\n",
      "   [34 35 36]]\n",
      "\n",
      "  [[15 16 17]\n",
      "   [25 26 27]\n",
      "   [35 36 37]]\n",
      "\n",
      "  [[16 17 18]\n",
      "   [26 27 28]\n",
      "   [36 37 38]]\n",
      "\n",
      "  [[17 18 19]\n",
      "   [27 28 29]\n",
      "   [37 38 39]]]\n",
      "\n",
      "\n",
      " [[[20 21 22]\n",
      "   [30 31 32]\n",
      "   [40 41 42]]\n",
      "\n",
      "  [[21 22 23]\n",
      "   [31 32 33]\n",
      "   [41 42 43]]\n",
      "\n",
      "  [[22 23 24]\n",
      "   [32 33 34]\n",
      "   [42 43 44]]\n",
      "\n",
      "  [[23 24 25]\n",
      "   [33 34 35]\n",
      "   [43 44 45]]\n",
      "\n",
      "  [[24 25 26]\n",
      "   [34 35 36]\n",
      "   [44 45 46]]\n",
      "\n",
      "  [[25 26 27]\n",
      "   [35 36 37]\n",
      "   [45 46 47]]\n",
      "\n",
      "  [[26 27 28]\n",
      "   [36 37 38]\n",
      "   [46 47 48]]\n",
      "\n",
      "  [[27 28 29]\n",
      "   [37 38 39]\n",
      "   [47 48 49]]]\n",
      "\n",
      "\n",
      " [[[30 31 32]\n",
      "   [40 41 42]\n",
      "   [50 51 52]]\n",
      "\n",
      "  [[31 32 33]\n",
      "   [41 42 43]\n",
      "   [51 52 53]]\n",
      "\n",
      "  [[32 33 34]\n",
      "   [42 43 44]\n",
      "   [52 53 54]]\n",
      "\n",
      "  [[33 34 35]\n",
      "   [43 44 45]\n",
      "   [53 54 55]]\n",
      "\n",
      "  [[34 35 36]\n",
      "   [44 45 46]\n",
      "   [54 55 56]]\n",
      "\n",
      "  [[35 36 37]\n",
      "   [45 46 47]\n",
      "   [55 56 57]]\n",
      "\n",
      "  [[36 37 38]\n",
      "   [46 47 48]\n",
      "   [56 57 58]]\n",
      "\n",
      "  [[37 38 39]\n",
      "   [47 48 49]\n",
      "   [57 58 59]]]\n",
      "\n",
      "\n",
      " [[[40 41 42]\n",
      "   [50 51 52]\n",
      "   [60 61 62]]\n",
      "\n",
      "  [[41 42 43]\n",
      "   [51 52 53]\n",
      "   [61 62 63]]\n",
      "\n",
      "  [[42 43 44]\n",
      "   [52 53 54]\n",
      "   [62 63 64]]\n",
      "\n",
      "  [[43 44 45]\n",
      "   [53 54 55]\n",
      "   [63 64 65]]\n",
      "\n",
      "  [[44 45 46]\n",
      "   [54 55 56]\n",
      "   [64 65 66]]\n",
      "\n",
      "  [[45 46 47]\n",
      "   [55 56 57]\n",
      "   [65 66 67]]\n",
      "\n",
      "  [[46 47 48]\n",
      "   [56 57 58]\n",
      "   [66 67 68]]\n",
      "\n",
      "  [[47 48 49]\n",
      "   [57 58 59]\n",
      "   [67 68 69]]]\n",
      "\n",
      "\n",
      " [[[50 51 52]\n",
      "   [60 61 62]\n",
      "   [70 71 72]]\n",
      "\n",
      "  [[51 52 53]\n",
      "   [61 62 63]\n",
      "   [71 72 73]]\n",
      "\n",
      "  [[52 53 54]\n",
      "   [62 63 64]\n",
      "   [72 73 74]]\n",
      "\n",
      "  [[53 54 55]\n",
      "   [63 64 65]\n",
      "   [73 74 75]]\n",
      "\n",
      "  [[54 55 56]\n",
      "   [64 65 66]\n",
      "   [74 75 76]]\n",
      "\n",
      "  [[55 56 57]\n",
      "   [65 66 67]\n",
      "   [75 76 77]]\n",
      "\n",
      "  [[56 57 58]\n",
      "   [66 67 68]\n",
      "   [76 77 78]]\n",
      "\n",
      "  [[57 58 59]\n",
      "   [67 68 69]\n",
      "   [77 78 79]]]\n",
      "\n",
      "\n",
      " [[[60 61 62]\n",
      "   [70 71 72]\n",
      "   [80 81 82]]\n",
      "\n",
      "  [[61 62 63]\n",
      "   [71 72 73]\n",
      "   [81 82 83]]\n",
      "\n",
      "  [[62 63 64]\n",
      "   [72 73 74]\n",
      "   [82 83 84]]\n",
      "\n",
      "  [[63 64 65]\n",
      "   [73 74 75]\n",
      "   [83 84 85]]\n",
      "\n",
      "  [[64 65 66]\n",
      "   [74 75 76]\n",
      "   [84 85 86]]\n",
      "\n",
      "  [[65 66 67]\n",
      "   [75 76 77]\n",
      "   [85 86 87]]\n",
      "\n",
      "  [[66 67 68]\n",
      "   [76 77 78]\n",
      "   [86 87 88]]\n",
      "\n",
      "  [[67 68 69]\n",
      "   [77 78 79]\n",
      "   [87 88 89]]]\n",
      "\n",
      "\n",
      " [[[70 71 72]\n",
      "   [80 81 82]\n",
      "   [90 91 92]]\n",
      "\n",
      "  [[71 72 73]\n",
      "   [81 82 83]\n",
      "   [91 92 93]]\n",
      "\n",
      "  [[72 73 74]\n",
      "   [82 83 84]\n",
      "   [92 93 94]]\n",
      "\n",
      "  [[73 74 75]\n",
      "   [83 84 85]\n",
      "   [93 94 95]]\n",
      "\n",
      "  [[74 75 76]\n",
      "   [84 85 86]\n",
      "   [94 95 96]]\n",
      "\n",
      "  [[75 76 77]\n",
      "   [85 86 87]\n",
      "   [95 96 97]]\n",
      "\n",
      "  [[76 77 78]\n",
      "   [86 87 88]\n",
      "   [96 97 98]]\n",
      "\n",
      "  [[77 78 79]\n",
      "   [87 88 89]\n",
      "   [97 98 99]]]]\n"
     ]
    }
   ],
   "source": [
    "from numpy.lib import stride_tricks\n",
    "Z = np.arange(100).reshape(10,10)\n",
    "print(Z)\n",
    "n = 3\n",
    "i = Z.shape[0] - (n-1)\n",
    "j = Z.shape[1] - (n-1)\n",
    "C = stride_tricks.as_strided(Z, shape=(i, j, n, n), strides=Z.strides + Z.strides)\n",
    "print(C)"
   ]
  },
  {
   "cell_type": "markdown",
   "metadata": {},
   "source": [
    "**11. Рассмотрим множество матриц (n,n) и множество из p векторов (n,1). Посчитать сумму p произведений матриц (результат имеет размерность (n,1))**"
   ]
  },
  {
   "cell_type": "code",
   "execution_count": 66,
   "metadata": {},
   "outputs": [
    {
     "name": "stdout",
     "output_type": "stream",
     "text": [
      "[[[ 0  1  2]\n",
      "  [ 3  4  5]\n",
      "  [ 6  7  8]]\n",
      "\n",
      " [[ 9 10 11]\n",
      "  [12 13 14]\n",
      "  [15 16 17]]]\n",
      "[[[0]\n",
      "  [1]\n",
      "  [2]]\n",
      "\n",
      " [[3]\n",
      "  [4]\n",
      "  [5]]]\n",
      "[[127]\n",
      " [172]\n",
      " [217]]\n"
     ]
    }
   ],
   "source": [
    "n = 3\n",
    "p = 2\n",
    "#A = np.random.randint(1,3,size = (p,n,n))\n",
    "A = np.arange(n*n*p).reshape(p,n,n)\n",
    "B = np.arange(p*n).reshape(p,n,1)\n",
    "print(A)\n",
    "print(B)\n",
    "X =np.zeros((n,1), dtype =int)\n",
    "for i in range(p):\n",
    "    X = X + np.dot(A[i,:,:],B[i,:])\n",
    "print(X)  "
   ]
  },
  {
   "cell_type": "markdown",
   "metadata": {},
   "source": [
    "**12. Дан массив 16x16, посчитать сумму по блокам 4x4**"
   ]
  },
  {
   "cell_type": "code",
   "execution_count": 67,
   "metadata": {},
   "outputs": [
    {
     "name": "stdout",
     "output_type": "stream",
     "text": [
      "408\n",
      "472\n",
      "536\n",
      "600\n",
      "1432\n",
      "1496\n",
      "1560\n",
      "1624\n",
      "2456\n",
      "2520\n",
      "2584\n",
      "2648\n",
      "3480\n",
      "3544\n",
      "3608\n",
      "3672\n"
     ]
    }
   ],
   "source": [
    "A = np.arange(16*16).reshape(16,16)\n",
    "for i in range(1,5):\n",
    "    for j in range(1,5):\n",
    "        print(A[(i-1)*4:i*4,(j-1)*4:j*4].sum())"
   ]
  },
  {
   "cell_type": "markdown",
   "metadata": {},
   "source": [
    "**13. Найти n наибольших значений в массиве**"
   ]
  },
  {
   "cell_type": "code",
   "execution_count": 68,
   "metadata": {},
   "outputs": [
    {
     "name": "stdout",
     "output_type": "stream",
     "text": [
      "[ 0  0  2  4  5  5  7 10 12 14 14 14 15 15 17 17 17 19 20 21 21 22 22 24\n",
      " 24 26 28 28 28 31 32 33 34 35 36 37 38 38 39 39 39 40 41 44 44 46 46 47\n",
      " 48 49 49 50 51 51 52 52 53 56 57 58 58 58 58 61 62 62 63 63 64 67 70 71\n",
      " 72 75 76 77 77 77 78 78 79 79 81 82 83 83 84 84 84 85 86 86 88 89 89 90\n",
      " 91 95 96 99]\n",
      "[95 96 99]\n"
     ]
    }
   ],
   "source": [
    "A = np.random.randint(100, size = (10,10))\n",
    "n = 3\n",
    "B = np.sort(A, axis = None)\n",
    "print(B)\n",
    "print(B[-n:])"
   ]
  },
  {
   "cell_type": "markdown",
   "metadata": {},
   "source": [
    "**14. Построить прямое произведение массивов (все комбинации с каждым элементом)**"
   ]
  },
  {
   "cell_type": "code",
   "execution_count": 69,
   "metadata": {},
   "outputs": [
    {
     "name": "stdout",
     "output_type": "stream",
     "text": [
      "(2, 3, 2, 2)\n",
      "(2, 2, 2, 3)\n",
      "[[[[ 6. 12. 18.]\n",
      "   [24. 30. 36.]]\n",
      "\n",
      "  [[ 7. 14. 21.]\n",
      "   [28. 35. 42.]]]\n",
      "\n",
      "\n",
      " [[[ 7. 14. 21.]\n",
      "   [28. 35. 42.]]\n",
      "\n",
      "  [[ 8. 16. 24.]\n",
      "   [32. 40. 48.]]]]\n",
      "(2, 2, 2, 3, 2)\n",
      "(2, 2, 2, 2, 3)\n",
      "[[[[[ 6. 12. 18.]\n",
      "    [24. 30. 36.]]\n",
      "\n",
      "   [[ 7. 14. 21.]\n",
      "    [28. 35. 42.]]]\n",
      "\n",
      "\n",
      "  [[[ 7. 14. 21.]\n",
      "    [28. 35. 42.]]\n",
      "\n",
      "   [[ 8. 16. 24.]\n",
      "    [32. 40. 48.]]]]\n",
      "\n",
      "\n",
      "\n",
      " [[[[ 6. 12. 18.]\n",
      "    [24. 30. 36.]]\n",
      "\n",
      "   [[ 7. 14. 21.]\n",
      "    [28. 35. 42.]]]\n",
      "\n",
      "\n",
      "  [[[ 7. 14. 21.]\n",
      "    [28. 35. 42.]]\n",
      "\n",
      "   [[ 8. 16. 24.]\n",
      "    [32. 40. 48.]]]]]\n"
     ]
    }
   ],
   "source": [
    "A = np.arange(1,7).reshape(2,3)\n",
    "B = np.array([[6,7],[7,8]])\n",
    "D = np.array([1,1])\n",
    "\n",
    "arrays = [B,D]\n",
    "\n",
    "for ar in arrays:\n",
    "    C = []\n",
    "    print(A.shape+ar.shape)\n",
    "    for i in ar.flat:\n",
    "        C = np.append(C,A*i)\n",
    "    A = C.reshape(ar.shape+A.shape)    \n",
    "    print(A.shape)\n",
    "    print(A)"
   ]
  },
  {
   "cell_type": "markdown",
   "metadata": {},
   "source": [
    "**15. Даны 2 массива A (8x3) и B (2x2). Найти строки в A, которые содержат элементы из каждой строки в B, независимо от порядка элементов в B**"
   ]
  },
  {
   "cell_type": "code",
   "execution_count": 85,
   "metadata": {},
   "outputs": [
    {
     "name": "stdout",
     "output_type": "stream",
     "text": [
      "[[0 0]\n",
      " [2 3]]\n",
      "[0 2 1]\n",
      "[0 4 3]\n",
      "[2 0 3]\n"
     ]
    }
   ],
   "source": [
    "A = np.array([[2, 4, 1],[0,2,1],[0,4,3],[4,4,3],[2,0,3],[1,3,1],[3,2,1],[4,3,2]])\n",
    "B = np.random.randint(5,size = (2,2))\n",
    "print(B)\n",
    "for row_A in A:\n",
    "    if not(B[0][0] in row_A or B[0][1] in row_A):\n",
    "        continue\n",
    "    if B[1][0] in row_A or B[1][1] in row_A:\n",
    "        print(row_A)"
   ]
  },
  {
   "cell_type": "markdown",
   "metadata": {},
   "source": [
    "**15. Дана 10x3 матрица, найти строки из неравных значений (например [2,2,3])**"
   ]
  },
  {
   "cell_type": "code",
   "execution_count": 107,
   "metadata": {},
   "outputs": [
    {
     "name": "stdout",
     "output_type": "stream",
     "text": [
      "[0 0 1]\n",
      "[0 1 1]\n",
      "[0 1 1]\n",
      "[1 1 0]\n",
      "[1 1 0]\n",
      "[0 1 0]\n",
      "[0 0 1]\n"
     ]
    }
   ],
   "source": [
    "A = np.random.randint(2,size = (10,3))\n",
    "for row_A in A:\n",
    "    for elem in row_A:\n",
    "        if elem != row_A[0]:\n",
    "            print(row_A)\n",
    "            break       "
   ]
  },
  {
   "cell_type": "markdown",
   "metadata": {},
   "source": [
    "**16. Преобразовать вектор чисел в матрицу бинарных представлений**"
   ]
  },
  {
   "cell_type": "code",
   "execution_count": 209,
   "metadata": {},
   "outputs": [
    {
     "name": "stdout",
     "output_type": "stream",
     "text": [
      "[[3]\n",
      " [8]\n",
      " [1]\n",
      " [3]\n",
      " [9]\n",
      " [9]\n",
      " [4]\n",
      " [0]\n",
      " [7]\n",
      " [5]]\n",
      "[[0 0 0 0 0 0 1 1]\n",
      " [0 0 0 0 1 0 0 0]\n",
      " [0 0 0 0 0 0 0 1]\n",
      " [0 0 0 0 0 0 1 1]\n",
      " [0 0 0 0 1 0 0 1]\n",
      " [0 0 0 0 1 0 0 1]\n",
      " [0 0 0 0 0 1 0 0]\n",
      " [0 0 0 0 0 0 0 0]\n",
      " [0 0 0 0 0 1 1 1]\n",
      " [0 0 0 0 0 1 0 1]]\n"
     ]
    }
   ],
   "source": [
    "A = np.random.randint(10,size = (10,1), dtype= np.ubyte)\n",
    "print(A)\n",
    "print(np.unpackbits(A,axis = 1))"
   ]
  },
  {
   "cell_type": "markdown",
   "metadata": {},
   "source": [
    "**17. Дан двумерный массив. Найти все различные строки**"
   ]
  },
  {
   "cell_type": "code",
   "execution_count": 215,
   "metadata": {},
   "outputs": [
    {
     "name": "stdout",
     "output_type": "stream",
     "text": [
      "[[0 1 0]\n",
      " [0 0 0]\n",
      " [1 1 1]\n",
      " [1 1 1]\n",
      " [1 1 0]\n",
      " [1 0 1]\n",
      " [0 1 1]\n",
      " [0 0 0]\n",
      " [1 1 0]\n",
      " [0 1 0]]\n"
     ]
    },
    {
     "data": {
      "text/plain": [
       "array([[0, 0, 0],\n",
       "       [0, 1, 0],\n",
       "       [0, 1, 1],\n",
       "       [1, 0, 1],\n",
       "       [1, 1, 0],\n",
       "       [1, 1, 1]])"
      ]
     },
     "execution_count": 215,
     "metadata": {},
     "output_type": "execute_result"
    }
   ],
   "source": [
    "A = np.random.randint(2, size = (10,3))\n",
    "print(A)\n",
    "np.unique(A, axis = 0)"
   ]
  },
  {
   "cell_type": "markdown",
   "metadata": {},
   "source": [
    "**18. Даны векторы A и B, написать einsum эквиваленты функций inner, outer, sum и mul**"
   ]
  },
  {
   "cell_type": "code",
   "execution_count": 295,
   "metadata": {},
   "outputs": [
    {
     "name": "stdout",
     "output_type": "stream",
     "text": [
      "[0 1 2 3 4 5 6 7 8 9]\n",
      "[10 11 12 13 14 15 16 17 18 19]\n",
      "735\n",
      "735\n",
      "[[  0   0   0   0   0   0   0   0   0   0]\n",
      " [ 10  11  12  13  14  15  16  17  18  19]\n",
      " [ 20  22  24  26  28  30  32  34  36  38]\n",
      " [ 30  33  36  39  42  45  48  51  54  57]\n",
      " [ 40  44  48  52  56  60  64  68  72  76]\n",
      " [ 50  55  60  65  70  75  80  85  90  95]\n",
      " [ 60  66  72  78  84  90  96 102 108 114]\n",
      " [ 70  77  84  91  98 105 112 119 126 133]\n",
      " [ 80  88  96 104 112 120 128 136 144 152]\n",
      " [ 90  99 108 117 126 135 144 153 162 171]]\n",
      "[[  0   0   0   0   0   0   0   0   0   0]\n",
      " [ 10  11  12  13  14  15  16  17  18  19]\n",
      " [ 20  22  24  26  28  30  32  34  36  38]\n",
      " [ 30  33  36  39  42  45  48  51  54  57]\n",
      " [ 40  44  48  52  56  60  64  68  72  76]\n",
      " [ 50  55  60  65  70  75  80  85  90  95]\n",
      " [ 60  66  72  78  84  90  96 102 108 114]\n",
      " [ 70  77  84  91  98 105 112 119 126 133]\n",
      " [ 80  88  96 104 112 120 128 136 144 152]\n",
      " [ 90  99 108 117 126 135 144 153 162 171]]\n",
      "45\n",
      "45\n",
      "735\n",
      "735\n"
     ]
    }
   ],
   "source": [
    "A = np.arange(10)\n",
    "B = np.arange(10,20)\n",
    "print(A)\n",
    "print(B)\n",
    "\n",
    "print(np.inner(A,B))\n",
    "print(np.einsum('i,i', A, B))\n",
    "print(np.outer(A,B))\n",
    "print(np.einsum('i,j', A, B))\n",
    "print(np.sum(A))\n",
    "print(np.einsum('i->', A))\n",
    "print(np.matmul(A,B))\n",
    "print(np.einsum('i,i',A,B))"
   ]
  }
 ],
 "metadata": {
  "kernelspec": {
   "display_name": "Python 3",
   "language": "python",
   "name": "python3"
  },
  "language_info": {
   "codemirror_mode": {
    "name": "ipython",
    "version": 3
   },
   "file_extension": ".py",
   "mimetype": "text/x-python",
   "name": "python",
   "nbconvert_exporter": "python",
   "pygments_lexer": "ipython3",
   "version": "3.7.4"
  }
 },
 "nbformat": 4,
 "nbformat_minor": 4
}
