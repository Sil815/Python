{
 "cells": [
  {
   "cell_type": "markdown",
   "metadata": {},
   "source": [
    "### Силантьева Ольга Сергеевна Т120-101М-20"
   ]
  },
  {
   "cell_type": "markdown",
   "metadata": {},
   "source": [
    "**1. Импортировать модули sys numpy pandas**"
   ]
  },
  {
   "cell_type": "code",
   "execution_count": 3,
   "metadata": {},
   "outputs": [],
   "source": [
    "import sys\n",
    "import numpy as np\n",
    "import pandas as pd"
   ]
  },
  {
   "cell_type": "markdown",
   "metadata": {},
   "source": [
    "**2. Создать объект pandas Series из листа, объекта NumPy, и словаря**"
   ]
  },
  {
   "cell_type": "code",
   "execution_count": 14,
   "metadata": {},
   "outputs": [
    {
     "name": "stdout",
     "output_type": "stream",
     "text": [
      "0       Red\n",
      "1    Orange\n",
      "2    Yellow\n",
      "3     Green\n",
      "4      Blue\n",
      "5    Indigo\n",
      "6    Violet\n",
      "dtype: object\n",
      "0    9\n",
      "1    1\n",
      "2    9\n",
      "3    3\n",
      "4    2\n",
      "5    6\n",
      "6    2\n",
      "dtype: int32\n",
      "0       Red\n",
      "1    Orange\n",
      "2    Yellow\n",
      "3     Green\n",
      "4      Blue\n",
      "5    Indigo\n",
      "6    Violet\n",
      "dtype: object\n"
     ]
    }
   ],
   "source": [
    "L = ['Red', 'Orange', 'Yellow', 'Green', 'Blue', 'Indigo', 'Violet']\n",
    "M = np.random.randint(10, size = len(L))\n",
    "D = dict(zip(np.arange(len(L)), L))\n",
    " \n",
    "L_s = pd.Series(L)\n",
    "M_s = pd.Series(M)\n",
    "D_s = pd.Series(D)\n",
    " \n",
    "print(L_s)\n",
    "print(M_s)\n",
    "print(D_s)"
   ]
  },
  {
   "cell_type": "markdown",
   "metadata": {},
   "source": [
    "**3. Преобразовать объект Series в DataFrame**"
   ]
  },
  {
   "cell_type": "code",
   "execution_count": 15,
   "metadata": {},
   "outputs": [
    {
     "name": "stdout",
     "output_type": "stream",
     "text": [
      "        0\n",
      "0     Red\n",
      "1  Orange\n",
      "2  Yellow\n",
      "3   Green\n",
      "4    Blue\n",
      "5  Indigo\n",
      "6  Violet\n"
     ]
    }
   ],
   "source": [
    "s = pd.Series(['Red', 'Orange', 'Yellow', 'Green', 'Blue', 'Indigo', 'Violet'])\n",
    "df = s.to_frame() \n",
    "print(df)"
   ]
  },
  {
   "cell_type": "markdown",
   "metadata": {},
   "source": [
    "**4. Объединить несколько объектов Series в Dataframe**"
   ]
  },
  {
   "cell_type": "code",
   "execution_count": 22,
   "metadata": {},
   "outputs": [
    {
     "name": "stdout",
     "output_type": "stream",
     "text": [
      "        0  1\n",
      "0     Red  5\n",
      "1  Orange  1\n",
      "2  Yellow  5\n",
      "3   Green  9\n",
      "4    Blue  6\n",
      "5  Indigo  8\n",
      "6  Violet  2\n"
     ]
    }
   ],
   "source": [
    "L =pd.Series( ['Red', 'Orange', 'Yellow', 'Green', 'Blue', 'Indigo', 'Violet'])\n",
    "M =pd.Series( np.random.randint(10, size = len(L)))\n",
    "df = pd.concat([L, M], axis=1)\n",
    "\n",
    "print(df)"
   ]
  },
  {
   "cell_type": "markdown",
   "metadata": {},
   "source": [
    "**5. Присвоить имя индексу объекта Series**"
   ]
  },
  {
   "cell_type": "code",
   "execution_count": 64,
   "metadata": {},
   "outputs": [],
   "source": [
    "s = pd.Series( ['Red', 'Orange', 'Yellow', 'Green', 'Blue', 'Indigo', 'Violet'])\n",
    "\n",
    "s.name = 'rainbow'"
   ]
  },
  {
   "cell_type": "markdown",
   "metadata": {},
   "source": [
    "**6. Получить элементы объекта Series A, которых нет в объекте Series B (возвратить вместе с индексами, \n",
    "возвратить значения)**"
   ]
  },
  {
   "cell_type": "code",
   "execution_count": 36,
   "metadata": {},
   "outputs": [
    {
     "name": "stdout",
     "output_type": "stream",
     "text": [
      "0    0\n",
      "1    1\n",
      "2    2\n",
      "3    3\n",
      "4    4\n",
      "5    5\n",
      "6    6\n",
      "7    7\n",
      "8    8\n",
      "9    9\n",
      "dtype: int32\n",
      "0    7\n",
      "1    1\n",
      "2    7\n",
      "3    1\n",
      "4    7\n",
      "dtype: int32\n",
      "0    0\n",
      "2    2\n",
      "3    3\n",
      "4    4\n",
      "5    5\n",
      "6    6\n",
      "8    8\n",
      "9    9\n",
      "dtype: int32\n",
      "[0 2 3 4 5 6 8 9]\n"
     ]
    }
   ],
   "source": [
    "s1 = pd.Series(np.arange(10))\n",
    "s2 = pd.Series(np.random.randint(10, size = (5)))\n",
    "\n",
    "print(s1)\n",
    "print(s2)\n",
    "\n",
    "# индексы и значения\n",
    "s = s1[~s1.isin(s2)]\n",
    "print(s)\n",
    "\n",
    "# только значения\n",
    "s = np.setdiff1d(s1, s2)\n",
    "print(s)"
   ]
  },
  {
   "cell_type": "markdown",
   "metadata": {},
   "source": [
    "**7. Получить не пересекающиеся элементы в двух объектах Series**"
   ]
  },
  {
   "cell_type": "code",
   "execution_count": 68,
   "metadata": {},
   "outputs": [
    {
     "name": "stdout",
     "output_type": "stream",
     "text": [
      "0    1\n",
      "1    2\n",
      "2    3\n",
      "2    6\n",
      "3    7\n",
      "4    8\n",
      "dtype: int64\n",
      "0    1\n",
      "1    2\n",
      "2    3\n",
      "5    6\n",
      "6    7\n",
      "7    8\n",
      "dtype: int64\n",
      "[1 2 3 6 7 8]\n"
     ]
    }
   ],
   "source": [
    " \n",
    "s1 = pd.Series([1, 2, 3, 4, 5])\n",
    "s2 = pd.Series([4, 5, 6, 7, 8])\n",
    " \n",
    "print(pd.concat([s1[~s1.isin(s2)], s2[~s2.isin(s1)]], axis=0))\n",
    "\n",
    "s_union = pd.Series(np.union1d(s1, s2))\n",
    "\n",
    "s_intersect = pd.Series(np.intersect1d(s1, s2))\n",
    "\n",
    "print(s_union[~s_union.isin(s_intersect)])\n",
    " \n",
    "print(np.setxor1d(s1, s2))"
   ]
  }
 ],
 "metadata": {
  "kernelspec": {
   "display_name": "Python 3",
   "language": "python",
   "name": "python3"
  },
  "language_info": {
   "codemirror_mode": {
    "name": "ipython",
    "version": 3
   },
   "file_extension": ".py",
   "mimetype": "text/x-python",
   "name": "python",
   "nbconvert_exporter": "python",
   "pygments_lexer": "ipython3",
   "version": "3.7.4"
  }
 },
 "nbformat": 4,
 "nbformat_minor": 4
}
