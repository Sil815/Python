{
 "cells": [
  {
   "cell_type": "markdown",
   "metadata": {},
   "source": [
    "### Силантьева Ольга Сергеевна Т120-101М-20"
   ]
  },
  {
   "cell_type": "code",
   "execution_count": 336,
   "metadata": {},
   "outputs": [],
   "source": [
    "import sys\n",
    "import numpy as np\n",
    "import pandas as pd"
   ]
  },
  {
   "cell_type": "markdown",
   "metadata": {},
   "source": [
    "**1.Получить от объекта Series показатели описательной статистики**"
   ]
  },
  {
   "cell_type": "code",
   "execution_count": 337,
   "metadata": {},
   "outputs": [
    {
     "name": "stdout",
     "output_type": "stream",
     "text": [
      "0     4.481044\n",
      "1     9.643147\n",
      "2     5.504056\n",
      "3     8.836336\n",
      "4     2.835602\n",
      "5     1.791205\n",
      "6     4.820533\n",
      "7     6.348973\n",
      "8     3.651275\n",
      "9     7.127868\n",
      "10    1.827309\n",
      "11    1.178153\n",
      "12    9.850031\n",
      "13    0.311419\n",
      "14    9.960881\n",
      "15    2.803944\n",
      "16    6.971828\n",
      "17    1.970920\n",
      "18    6.242394\n",
      "19    8.280287\n",
      "dtype: float64\n"
     ]
    },
    {
     "data": {
      "text/plain": [
       "count    20.000000\n",
       "mean      5.221860\n",
       "std       3.111721\n",
       "min       0.311419\n",
       "25%       2.595688\n",
       "50%       5.162294\n",
       "75%       7.415972\n",
       "max       9.960881\n",
       "dtype: float64"
      ]
     },
     "execution_count": 337,
     "metadata": {},
     "output_type": "execute_result"
    }
   ],
   "source": [
    "s = pd.Series(np.random.uniform(0, 10, 20))\n",
    "print(s)\n",
    "s.describe()"
   ]
  },
  {
   "cell_type": "markdown",
   "metadata": {},
   "source": [
    "**2. Узнать частоту уникальных элементов объекта Series (гистограмма)**"
   ]
  },
  {
   "cell_type": "code",
   "execution_count": 338,
   "metadata": {
    "scrolled": true
   },
   "outputs": [
    {
     "name": "stdout",
     "output_type": "stream",
     "text": [
      "6    4\n",
      "4    4\n",
      "8    3\n",
      "5    3\n",
      "3    3\n",
      "9    2\n",
      "1    1\n",
      "dtype: int64\n"
     ]
    },
    {
     "data": {
      "text/plain": [
       "<BarContainer object of 7 artists>"
      ]
     },
     "execution_count": 338,
     "metadata": {},
     "output_type": "execute_result"
    },
    {
     "data": {
      "image/png": "[encoded data removed]",
      "text/plain": [
       "<Figure size 432x288 with 1 Axes>"
      ]
     },
     "metadata": {
      "needs_background": "light"
     },
     "output_type": "display_data"
    }
   ],
   "source": [
    "s = pd.Series(np.random.randint(0, 10, 20))\n",
    "s = s.value_counts()\n",
    "print(s)\n",
    "import matplotlib.pyplot as plt\n",
    "plt.bar(s.index,s.values)"
   ]
  },
  {
   "cell_type": "markdown",
   "metadata": {},
   "source": [
    "**3. Заменить все элементы объекта Series на \"Other\", кроме двух наиболее часто встречающихся**"
   ]
  },
  {
   "cell_type": "code",
   "execution_count": 339,
   "metadata": {},
   "outputs": [
    {
     "name": "stdout",
     "output_type": "stream",
     "text": [
      "9    3\n",
      "6    3\n",
      "5    3\n",
      "8    2\n",
      "7    2\n",
      "1    2\n",
      "0    2\n",
      "4    1\n",
      "3    1\n",
      "2    1\n",
      "dtype: int64\n",
      "0     Other\n",
      "1     Other\n",
      "2     Other\n",
      "3         6\n",
      "4     Other\n",
      "5     Other\n",
      "6     Other\n",
      "7         6\n",
      "8     Other\n",
      "9         9\n",
      "10    Other\n",
      "11    Other\n",
      "12    Other\n",
      "13    Other\n",
      "14        9\n",
      "15    Other\n",
      "16    Other\n",
      "17    Other\n",
      "18        6\n",
      "19        9\n",
      "dtype: object\n"
     ]
    }
   ],
   "source": [
    "s = pd.Series(np.random.randint(0, 10, 20))\n",
    "print(s.value_counts())\n",
    "s[~s.isin(s.value_counts().index[:2])] = 'Other'\n",
    "print(s)"
   ]
  },
  {
   "cell_type": "markdown",
   "metadata": {},
   "source": [
    "**4. Создать объект Series в индексах дата каждый день 2019 года, в значениях случайное значение**"
   ]
  },
  {
   "cell_type": "code",
   "execution_count": 402,
   "metadata": {
    "scrolled": true
   },
   "outputs": [
    {
     "name": "stdout",
     "output_type": "stream",
     "text": [
      "2019-01-01    2\n",
      "2019-01-02    3\n",
      "2019-01-03    6\n",
      "2019-01-04    6\n",
      "2019-01-05    3\n",
      "             ..\n",
      "2019-12-27    5\n",
      "2019-12-28    0\n",
      "2019-12-29    9\n",
      "2019-12-30    6\n",
      "2019-12-31    1\n",
      "Freq: D, Length: 365, dtype: int32\n"
     ]
    }
   ],
   "source": [
    "data = pd.date_range(start='2019-01-01', end='2019-12-31', freq='D') \n",
    "s = pd.Series(np.random.randint(0,10,len(data)), index=data)\n",
    "print(s)"
   ]
  },
  {
   "cell_type": "markdown",
   "metadata": {},
   "source": [
    "**5(4.1) Найти сумму всех вторников**"
   ]
  },
  {
   "cell_type": "code",
   "execution_count": 341,
   "metadata": {},
   "outputs": [
    {
     "data": {
      "text/plain": [
       "249"
      ]
     },
     "execution_count": 341,
     "metadata": {},
     "output_type": "execute_result"
    }
   ],
   "source": [
    "s[s.index.weekday == 1].sum()"
   ]
  },
  {
   "cell_type": "markdown",
   "metadata": {},
   "source": [
    "**6(4.2) Для каждого месяца найти среднее значение**"
   ]
  },
  {
   "cell_type": "code",
   "execution_count": 342,
   "metadata": {},
   "outputs": [
    {
     "data": {
      "text/plain": [
       "2019-01-31    4.521739\n",
       "2019-02-28    4.250000\n",
       "2019-03-31    5.142857\n",
       "2019-04-30    5.500000\n",
       "2019-05-31    4.782609\n",
       "2019-06-30    3.950000\n",
       "2019-07-31    4.391304\n",
       "2019-08-31    4.000000\n",
       "2019-09-30    5.142857\n",
       "2019-10-31    5.260870\n",
       "2019-11-30    4.523810\n",
       "2019-12-31    3.818182\n",
       "Freq: M, dtype: float64"
      ]
     },
     "execution_count": 342,
     "metadata": {},
     "output_type": "execute_result"
    }
   ],
   "source": [
    "s.resample('M').mean()"
   ]
  },
  {
   "cell_type": "markdown",
   "metadata": {},
   "source": [
    "**7. Преобразовать объект Series в DataFrame заданной формы (shape)**"
   ]
  },
  {
   "cell_type": "code",
   "execution_count": 343,
   "metadata": {},
   "outputs": [
    {
     "data": {
      "text/html": [
       "<div>\n",
       "<style scoped>\n",
       "    .dataframe tbody tr th:only-of-type {\n",
       "        vertical-align: middle;\n",
       "    }\n",
       "\n",
       "    .dataframe tbody tr th {\n",
       "        vertical-align: top;\n",
       "    }\n",
       "\n",
       "    .dataframe thead th {\n",
       "        text-align: right;\n",
       "    }\n",
       "</style>\n",
       "<table border=\"1\" class=\"dataframe\">\n",
       "  <thead>\n",
       "    <tr style=\"text-align: right;\">\n",
       "      <th></th>\n",
       "      <th>0</th>\n",
       "      <th>1</th>\n",
       "      <th>2</th>\n",
       "      <th>3</th>\n",
       "      <th>4</th>\n",
       "    </tr>\n",
       "  </thead>\n",
       "  <tbody>\n",
       "    <tr>\n",
       "      <th>0</th>\n",
       "      <td>6</td>\n",
       "      <td>6</td>\n",
       "      <td>6</td>\n",
       "      <td>6</td>\n",
       "      <td>7</td>\n",
       "    </tr>\n",
       "    <tr>\n",
       "      <th>1</th>\n",
       "      <td>6</td>\n",
       "      <td>1</td>\n",
       "      <td>0</td>\n",
       "      <td>5</td>\n",
       "      <td>5</td>\n",
       "    </tr>\n",
       "    <tr>\n",
       "      <th>2</th>\n",
       "      <td>4</td>\n",
       "      <td>2</td>\n",
       "      <td>4</td>\n",
       "      <td>1</td>\n",
       "      <td>7</td>\n",
       "    </tr>\n",
       "    <tr>\n",
       "      <th>3</th>\n",
       "      <td>3</td>\n",
       "      <td>1</td>\n",
       "      <td>1</td>\n",
       "      <td>1</td>\n",
       "      <td>7</td>\n",
       "    </tr>\n",
       "  </tbody>\n",
       "</table>\n",
       "</div>"
      ],
      "text/plain": [
       "   0  1  2  3  4\n",
       "0  6  6  6  6  7\n",
       "1  6  1  0  5  5\n",
       "2  4  2  4  1  7\n",
       "3  3  1  1  1  7"
      ]
     },
     "execution_count": 343,
     "metadata": {},
     "output_type": "execute_result"
    }
   ],
   "source": [
    "s = pd.Series(np.random.randint(0, 10, 20))\n",
    "sh = (4,5)\n",
    "df = pd.DataFrame(s.values.reshape(sh))\n",
    "df"
   ]
  },
  {
   "cell_type": "markdown",
   "metadata": {},
   "source": [
    "**8. Найти индексы объекта Series кратные 3**"
   ]
  },
  {
   "cell_type": "code",
   "execution_count": 344,
   "metadata": {},
   "outputs": [
    {
     "data": {
      "text/plain": [
       "0     5\n",
       "3     6\n",
       "6     8\n",
       "9     7\n",
       "12    1\n",
       "15    8\n",
       "18    0\n",
       "dtype: int32"
      ]
     },
     "execution_count": 344,
     "metadata": {},
     "output_type": "execute_result"
    }
   ],
   "source": [
    "s = pd.Series(np.random.randint(0, 10, 20))\n",
    "s[s.index % 3 == 0]"
   ]
  },
  {
   "cell_type": "markdown",
   "metadata": {},
   "source": [
    "**9. Получить данные по индексам объекта Series**"
   ]
  },
  {
   "cell_type": "code",
   "execution_count": 345,
   "metadata": {},
   "outputs": [
    {
     "data": {
      "text/plain": [
       "8    17\n",
       "1    13\n",
       "1    13\n",
       "0    14\n",
       "1    13\n",
       "dtype: int32"
      ]
     },
     "execution_count": 345,
     "metadata": {},
     "output_type": "execute_result"
    }
   ],
   "source": [
    "s = pd.Series(np.random.randint(10, 20, 20))\n",
    "ind = np.random.randint(0, 10, 5)\n",
    "s[ind]"
   ]
  },
  {
   "cell_type": "markdown",
   "metadata": {},
   "source": [
    "**10. Объединить два объекта Series вертикально и горизонтально**"
   ]
  },
  {
   "cell_type": "code",
   "execution_count": 346,
   "metadata": {},
   "outputs": [
    {
     "name": "stdout",
     "output_type": "stream",
     "text": [
      "0     0\n",
      "1     8\n",
      "2     6\n",
      "3     6\n",
      "4     8\n",
      "0    18\n",
      "1    10\n",
      "2    15\n",
      "3    15\n",
      "4    19\n",
      "dtype: int32\n",
      "   0   1\n",
      "0  0  18\n",
      "1  8  10\n",
      "2  6  15\n",
      "3  6  15\n",
      "4  8  19\n"
     ]
    }
   ],
   "source": [
    "s1 = pd.Series(np.random.randint(0, 10, 5))\n",
    "s2 = pd.Series(np.random.randint(10, 20, 5))\n",
    " \n",
    "print(pd.concat([s1, s2], axis=0))\n",
    "print(pd.concat([s1, s2], axis=1))"
   ]
  },
  {
   "cell_type": "markdown",
   "metadata": {},
   "source": [
    "**11. Получить индексы объекта Series A, данные которых содержатся в объетке Series B**"
   ]
  },
  {
   "cell_type": "code",
   "execution_count": 347,
   "metadata": {},
   "outputs": [
    {
     "name": "stdout",
     "output_type": "stream",
     "text": [
      "0    3\n",
      "1    3\n",
      "2    1\n",
      "3    4\n",
      "4    8\n",
      "dtype: int32\n",
      "0    8\n",
      "1    3\n",
      "2    9\n",
      "3    8\n",
      "4    4\n",
      "dtype: int32\n",
      "0    3\n",
      "1    3\n",
      "3    4\n",
      "4    8\n",
      "dtype: int32\n"
     ]
    }
   ],
   "source": [
    "s_A = pd.Series(np.random.randint(0, 10, 5))\n",
    "s_B = pd.Series(np.random.randint(0, 10, 5))\n",
    "print(s_A)\n",
    "print(s_B)\n",
    "print(s_A[s_A.isin(s_B)])"
   ]
  },
  {
   "cell_type": "markdown",
   "metadata": {},
   "source": [
    "**12. Получить объект Series B, который содержит элементы без повторений объекта A**"
   ]
  },
  {
   "cell_type": "code",
   "execution_count": 348,
   "metadata": {},
   "outputs": [
    {
     "name": "stdout",
     "output_type": "stream",
     "text": [
      "0    0\n",
      "1    1\n",
      "2    2\n",
      "3    2\n",
      "4    4\n",
      "5    4\n",
      "6    3\n",
      "7    0\n",
      "8    1\n",
      "9    0\n",
      "dtype: int32\n",
      "0    0\n",
      "1    1\n",
      "2    2\n",
      "3    4\n",
      "4    3\n",
      "dtype: int32\n"
     ]
    }
   ],
   "source": [
    "s_A = pd.Series(np.random.randint(0, 5, 10))\n",
    "s_B = pd.Series(s_A.unique())\n",
    "print(s_A)\n",
    "print(s_B)"
   ]
  },
  {
   "cell_type": "markdown",
   "metadata": {},
   "source": [
    "**13. Преобразовать каждый символ объекта Series в верхний регистр**"
   ]
  },
  {
   "cell_type": "code",
   "execution_count": 349,
   "metadata": {},
   "outputs": [
    {
     "data": {
      "text/plain": [
       "0       RED\n",
       "1    ORANGE\n",
       "2    YELLOW\n",
       "3     GREEN\n",
       "4      BLUE\n",
       "5    INDIGO\n",
       "6    VIOLET\n",
       "dtype: object"
      ]
     },
     "execution_count": 349,
     "metadata": {},
     "output_type": "execute_result"
    }
   ],
   "source": [
    "s = pd.Series(['Red', 'Orange', 'Yellow', 'Green', 'Blue', 'Indigo', 'Violet'])\n",
    "s = pd.Series(i.upper() for i in s)\n",
    "s"
   ]
  },
  {
   "cell_type": "markdown",
   "metadata": {},
   "source": [
    "**14. Преобразование данных Series в строку**"
   ]
  },
  {
   "cell_type": "code",
   "execution_count": 350,
   "metadata": {},
   "outputs": [
    {
     "data": {
      "text/plain": [
       "array(['1', '1', '0', '1', '2', '1', '2', '2', '4', '2'], dtype=object)"
      ]
     },
     "execution_count": 350,
     "metadata": {},
     "output_type": "execute_result"
    }
   ],
   "source": [
    "s = pd.Series(np.random.randint(0, 5, 10))\n",
    "s = pd.Series(str(i) for i in s)\n",
    "s.values"
   ]
  },
  {
   "cell_type": "markdown",
   "metadata": {},
   "source": [
    "**15. Рассчитать количество символов в объекте Series**"
   ]
  },
  {
   "cell_type": "code",
   "execution_count": 351,
   "metadata": {},
   "outputs": [
    {
     "data": {
      "text/plain": [
       "36"
      ]
     },
     "execution_count": 351,
     "metadata": {},
     "output_type": "execute_result"
    }
   ],
   "source": [
    "s = pd.Series(['Red', 'Orange', 'Yellow', 'Green', 'Blue', 'Indigo', 'Violet'])\n",
    "np.array([len(i) for i in s]).sum()"
   ]
  },
  {
   "cell_type": "markdown",
   "metadata": {},
   "source": [
    "**16. Преобразование в строковый тип**"
   ]
  },
  {
   "cell_type": "code",
   "execution_count": 352,
   "metadata": {},
   "outputs": [
    {
     "data": {
      "text/plain": [
       "0    1\n",
       "1    2\n",
       "2    4\n",
       "3    2\n",
       "4    3\n",
       "5    3\n",
       "6    2\n",
       "7    2\n",
       "8    0\n",
       "9    0\n",
       "dtype: object"
      ]
     },
     "execution_count": 352,
     "metadata": {},
     "output_type": "execute_result"
    }
   ],
   "source": [
    "s = pd.Series(np.random.randint(0, 5, 10))\n",
    "s = pd.Series(str(i) for i in s)\n",
    "s"
   ]
  },
  {
   "cell_type": "markdown",
   "metadata": {},
   "source": [
    "**17. Найти разность между объектом Series и смещением объекта Series на n**"
   ]
  },
  {
   "cell_type": "code",
   "execution_count": 403,
   "metadata": {},
   "outputs": [
    {
     "name": "stdout",
     "output_type": "stream",
     "text": [
      "0    4\n",
      "1    1\n",
      "2    3\n",
      "3    3\n",
      "4    0\n",
      "5    4\n",
      "6    3\n",
      "7    2\n",
      "8    1\n",
      "9    0\n",
      "dtype: int32\n"
     ]
    },
    {
     "data": {
      "text/plain": [
       "0    NaN\n",
       "1    NaN\n",
       "2   -1.0\n",
       "3    2.0\n",
       "4   -3.0\n",
       "5    1.0\n",
       "6    3.0\n",
       "7   -2.0\n",
       "8   -2.0\n",
       "9   -2.0\n",
       "dtype: float64"
      ]
     },
     "execution_count": 403,
     "metadata": {},
     "output_type": "execute_result"
    }
   ],
   "source": [
    "n = 2 \n",
    "s = pd.Series(np.random.randint(0, 5, 10))\n",
    "print(s)\n",
    "s.diff(periods=n)"
   ]
  },
  {
   "cell_type": "markdown",
   "metadata": {},
   "source": [
    "**18. Преобразовать разные форматы строк объекта Series в дату**"
   ]
  },
  {
   "cell_type": "code",
   "execution_count": 354,
   "metadata": {},
   "outputs": [
    {
     "data": {
      "text/plain": [
       "0   2002-03-11\n",
       "1   2002-12-04\n",
       "2   2002-01-15\n",
       "3   2002-11-03\n",
       "4   2002-03-11\n",
       "5   2002-12-05\n",
       "dtype: datetime64[ns]"
      ]
     },
     "execution_count": 354,
     "metadata": {},
     "output_type": "execute_result"
    }
   ],
   "source": [
    "s = pd.Series(['Monday 11 March 2002', 'Wed Dec 4 2002', '15 Jan 2002', '11/03/02', '2002-03-11','12.05.02'])\n",
    "pd.to_datetime(s)"
   ]
  },
  {
   "cell_type": "markdown",
   "metadata": {},
   "source": [
    "**19. Преобразовать одинаковые форматы строк объекта Series в дату**"
   ]
  },
  {
   "cell_type": "code",
   "execution_count": 355,
   "metadata": {},
   "outputs": [
    {
     "data": {
      "text/plain": [
       "pandas._libs.tslibs.timestamps.Timestamp"
      ]
     },
     "execution_count": 355,
     "metadata": {},
     "output_type": "execute_result"
    }
   ],
   "source": [
    "s = pd.Series(['11/03/02', '12/03/02','13/03/02'])\n",
    "s = pd.to_datetime(s, format = '%d/%m/%y' )\n",
    "type(s[0])"
   ]
  },
  {
   "cell_type": "markdown",
   "metadata": {},
   "source": [
    "**20. Получить год, месяц, день, день недели, номер дня в году от объекта Series (string). Распарсить в дату и время.**"
   ]
  },
  {
   "cell_type": "code",
   "execution_count": 356,
   "metadata": {},
   "outputs": [
    {
     "name": "stdout",
     "output_type": "stream",
     "text": [
      "0    2002\n",
      "1    2001\n",
      "2    2002\n",
      "3    2002\n",
      "4    2002\n",
      "5    2002\n",
      "dtype: int64\n",
      "0     3\n",
      "1    12\n",
      "2     1\n",
      "3    11\n",
      "4     3\n",
      "5     5\n",
      "dtype: int64\n",
      "0    11\n",
      "1     4\n",
      "2    15\n",
      "3     3\n",
      "4    11\n",
      "5    13\n",
      "dtype: int64\n",
      "0    11\n",
      "1    49\n",
      "2     3\n",
      "3    44\n",
      "4    11\n",
      "5    20\n",
      "dtype: int64\n",
      "0     70\n",
      "1    338\n",
      "2     15\n",
      "3    307\n",
      "4     70\n",
      "5    133\n",
      "dtype: int64\n"
     ]
    }
   ],
   "source": [
    "from dateutil.parser import parse\n",
    "\n",
    "s = pd.Series(['Monday 11 March 2002', 'Wed Dec 4 2001', '15 Jan 2002', '11/03/02', '2002-03-11','13.05.02'])\n",
    "#s = pd.to_datetime(s)\n",
    "s_parse = s.map(lambda x: parse(x))\n",
    "\n",
    "print(s_parse.dt.year)\n",
    "print(s_parse.dt.month)\n",
    "print(s_parse.dt.day)\n",
    "print(s_parse.dt.weekofyear)\n",
    "print(s_parse.dt.dayofyear)"
   ]
  },
  {
   "cell_type": "markdown",
   "metadata": {},
   "source": [
    "**21. Отобрать элементы объекта Series, кторые содержат не менее двух гласных**"
   ]
  },
  {
   "cell_type": "code",
   "execution_count": 357,
   "metadata": {},
   "outputs": [
    {
     "name": "stdout",
     "output_type": "stream",
     "text": [
      "['a', 'e', 'i', 'o', 'u', 'y']\n"
     ]
    },
    {
     "data": {
      "text/plain": [
       "1    Orange\n",
       "2    Yellow\n",
       "3     Green\n",
       "4      Blue\n",
       "5    Indigo\n",
       "6    Violet\n",
       "dtype: object"
      ]
     },
     "execution_count": 357,
     "metadata": {},
     "output_type": "execute_result"
    }
   ],
   "source": [
    "s = pd.Series(['Red', 'Orange', 'Yellow', 'Green', 'Blue', 'Indigo', 'Violet','Pink'])\n",
    "vowels = list(\"aeiouy\")\n",
    "print(vowels)\n",
    "\n",
    "s_vowels = s.map(lambda x: sum([x.lower().count(i) for i in vowels])>= 2)\n",
    "s[s_vowels]\n"
   ]
  },
  {
   "cell_type": "markdown",
   "metadata": {},
   "source": [
    "**22. Отобрать e-маилы из объекта Series**"
   ]
  },
  {
   "cell_type": "code",
   "execution_count": 371,
   "metadata": {},
   "outputs": [
    {
     "name": "stdout",
     "output_type": "stream",
     "text": [
      "0    Fd%-frog@yandex.ru\n",
      "1       grole@gmail.com\n",
      "dtype: object\n"
     ]
    }
   ],
   "source": [
    "import re\n",
    "\n",
    "emails = pd.Series(['Fd%-frog@yandex.ru', 'grole@gmail.com', 'grole.com', 'frog@grole'])\n",
    "pattern = re.compile('[A-Za-z0-9._%+-]+@[A-Za-z0-9.-]+\\.[A-Za-z]{2,4}')\n",
    "mask = emails.map(lambda x: bool(pattern.match(x)))\n",
    "ans = emails[mask]\n",
    "print(ans)"
   ]
  },
  {
   "cell_type": "markdown",
   "metadata": {},
   "source": [
    "**23. Получить среднее значение каждого уникального объекта Series s1 через \"маску\" другого объекта Series s2**"
   ]
  },
  {
   "cell_type": "code",
   "execution_count": 401,
   "metadata": {},
   "outputs": [
    {
     "name": "stdout",
     "output_type": "stream",
     "text": [
      "0    Parrot\n",
      "1      Duck\n",
      "2    Parrot\n",
      "3    Parrot\n",
      "4    Falcon\n",
      "5    Parrot\n",
      "6    Falcon\n",
      "7    Parrot\n",
      "8    Falcon\n",
      "9      Duck\n",
      "dtype: object\n",
      "0    7\n",
      "1    1\n",
      "2    8\n",
      "3    1\n",
      "4    3\n",
      "5    3\n",
      "6    2\n",
      "7    3\n",
      "8    2\n",
      "9    6\n",
      "dtype: int32\n"
     ]
    },
    {
     "data": {
      "text/plain": [
       "Duck      3.500000\n",
       "Falcon    2.333333\n",
       "Parrot    4.400000\n",
       "dtype: float64"
      ]
     },
     "execution_count": 401,
     "metadata": {},
     "output_type": "execute_result"
    }
   ],
   "source": [
    "n = 10\n",
    "s1 = pd.Series(np.random.choice(['Falcon', 'Parrot', 'Duck'], n))\n",
    "print(s1)\n",
    "s2 = pd.Series(np.random.randint(0,10,n))\n",
    "print(s2)\n",
    "s2.groupby(s1).mean()"
   ]
  }
 ],
 "metadata": {
  "kernelspec": {
   "display_name": "Python 3",
   "language": "python",
   "name": "python3"
  },
  "language_info": {
   "codemirror_mode": {
    "name": "ipython",
    "version": 3
   },
   "file_extension": ".py",
   "mimetype": "text/x-python",
   "name": "python",
   "nbconvert_exporter": "python",
   "pygments_lexer": "ipython3",
   "version": "3.7.4"
  }
 },
 "nbformat": 4,
 "nbformat_minor": 4
}
