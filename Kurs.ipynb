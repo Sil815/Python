{
 "cells": [
  {
   "cell_type": "code",
   "execution_count": 20,
   "metadata": {},
   "outputs": [],
   "source": [
    "import cx_Oracle\n",
    "import os\n",
    "import pandas as pd\n",
    "#from datetime import datetime\n",
    "import matplotlib.pyplot as plt"
   ]
  },
  {
   "cell_type": "code",
   "execution_count": 21,
   "metadata": {},
   "outputs": [],
   "source": [
    "LOCATION_ORACLE = r\"D:\\Downloads\\instantclient_19_9\"\n",
    "os.environ[\"PATH\"] = LOCATION_ORACLE + \";\" + os.environ[\"PATH\"]"
   ]
  },
  {
   "cell_type": "code",
   "execution_count": 22,
   "metadata": {},
   "outputs": [],
   "source": [
    "conn = cx_Oracle.connect(\"patio/3miostk@//localhost:1521/XE\")\n",
    "cursor = conn.cursor()"
   ]
  },
  {
   "cell_type": "code",
   "execution_count": 23,
   "metadata": {},
   "outputs": [
    {
     "name": "stdout",
     "output_type": "stream",
     "text": [
      "            Date Close/Last   Volume      Open       High         Low\n",
      "0     04/13/2021   $2267.27  1165804  $2261.47   $2277.21    $2256.09\n",
      "1     04/12/2021   $2254.79  1565851  $2266.25   $2275.32   $2238.465\n",
      "2     04/09/2021   $2285.88  1044365   $2256.7   $2289.04  $2253.7139\n",
      "3     04/08/2021   $2265.44  1358259  $2277.96  $2284.005    $2257.68\n",
      "4     04/07/2021   $2249.68  1289861  $2226.13      $2255  $2225.3303\n",
      "...          ...        ...      ...       ...        ...         ...\n",
      "1769  04/02/2014       $567   146697   $599.99    $604.83     $562.19\n",
      "1770  04/01/2014    $567.16     7932   $558.71    $568.45     $558.71\n",
      "1771  03/31/2014    $556.97    10772   $566.89       $567     $556.93\n",
      "1772  03/28/2014    $559.99    41003    $561.2    $566.43     $558.67\n",
      "1773  03/27/2014    $558.46    13052      $568       $568     $552.92\n",
      "\n",
      "[1774 rows x 6 columns]\n"
     ]
    }
   ],
   "source": [
    "df = pd.read_csv('D:\\IT-магистратура МАИ\\семестр_1\\Python\\HistoricalData_GOOG.csv',header = 0, delimiter = ',')\n",
    "print(df)\n",
    "SQL_string = '''INSERT INTO GOOG_NASDAQ\n",
    "                                   (\"Date\",\n",
    "                                    \"Close_Last\",\n",
    "                                    \"Volume\",\n",
    "                                    \"Open\",\n",
    "                                    \"High\",\n",
    "                                    \"Low\")\n",
    "                             VALUES\n",
    "                              (:p_Date, :p_Close_Last, :p_Volume, :p_Open, :p_High, :p_Low)                            \n",
    "                             '''"
   ]
  },
  {
   "cell_type": "code",
   "execution_count": 24,
   "metadata": {},
   "outputs": [],
   "source": [
    "df[['Close/Last','Open','High','Low']] = df[['Close/Last','Open','High','Low']].applymap(lambda x: x[1:])\n",
    "df= df.astype({'Date': 'datetime64', 'Close/Last': float,'Open': float,'High': float,'Low': float})"
   ]
  },
  {
   "cell_type": "code",
   "execution_count": 25,
   "metadata": {},
   "outputs": [],
   "source": [
    "#t1 = [tuple(x) for x in df.values]\n",
    "#print(t1[0])\n",
    "#cursor.executemany(SQL_string,  t1) "
   ]
  },
  {
   "cell_type": "code",
   "execution_count": 26,
   "metadata": {},
   "outputs": [],
   "source": [
    "for x in df.values:\n",
    "    #print(x)\n",
    "    cursor.execute(SQL_string, x)\n",
    "conn.commit()     #фиксация транзакции"
   ]
  },
  {
   "cell_type": "code",
   "execution_count": 27,
   "metadata": {},
   "outputs": [],
   "source": [
    "cursor.execute('''SELECT * FROM GOOG_NASDAQ''')\n",
    "result = cursor.fetchall()\n",
    "df_o = pd.DataFrame(result, columns = ['Date','Close/Last', 'Volume', 'Open','High','Low'])\n",
    "\n"
   ]
  },
  {
   "cell_type": "code",
   "execution_count": 28,
   "metadata": {},
   "outputs": [
    {
     "data": {
      "text/html": [
       "<div>\n",
       "<style scoped>\n",
       "    .dataframe tbody tr th:only-of-type {\n",
       "        vertical-align: middle;\n",
       "    }\n",
       "\n",
       "    .dataframe tbody tr th {\n",
       "        vertical-align: top;\n",
       "    }\n",
       "\n",
       "    .dataframe thead th {\n",
       "        text-align: right;\n",
       "    }\n",
       "</style>\n",
       "<table border=\"1\" class=\"dataframe\">\n",
       "  <thead>\n",
       "    <tr style=\"text-align: right;\">\n",
       "      <th></th>\n",
       "      <th>Date</th>\n",
       "      <th>Close/Last</th>\n",
       "      <th>Volume</th>\n",
       "      <th>Open</th>\n",
       "      <th>High</th>\n",
       "      <th>Low</th>\n",
       "    </tr>\n",
       "  </thead>\n",
       "  <tbody>\n",
       "    <tr>\n",
       "      <th>1209</th>\n",
       "      <td>2014-03-27</td>\n",
       "      <td>558.46</td>\n",
       "      <td>13052</td>\n",
       "      <td>568.00</td>\n",
       "      <td>568.00</td>\n",
       "      <td>552.92</td>\n",
       "    </tr>\n",
       "    <tr>\n",
       "      <th>1208</th>\n",
       "      <td>2014-03-28</td>\n",
       "      <td>559.99</td>\n",
       "      <td>41003</td>\n",
       "      <td>561.20</td>\n",
       "      <td>566.43</td>\n",
       "      <td>558.67</td>\n",
       "    </tr>\n",
       "    <tr>\n",
       "      <th>1207</th>\n",
       "      <td>2014-03-31</td>\n",
       "      <td>556.97</td>\n",
       "      <td>10772</td>\n",
       "      <td>566.89</td>\n",
       "      <td>567.00</td>\n",
       "      <td>556.93</td>\n",
       "    </tr>\n",
       "    <tr>\n",
       "      <th>1206</th>\n",
       "      <td>2014-04-01</td>\n",
       "      <td>567.16</td>\n",
       "      <td>7932</td>\n",
       "      <td>558.71</td>\n",
       "      <td>568.45</td>\n",
       "      <td>558.71</td>\n",
       "    </tr>\n",
       "    <tr>\n",
       "      <th>1205</th>\n",
       "      <td>2014-04-02</td>\n",
       "      <td>567.00</td>\n",
       "      <td>146697</td>\n",
       "      <td>599.99</td>\n",
       "      <td>604.83</td>\n",
       "      <td>562.19</td>\n",
       "    </tr>\n",
       "    <tr>\n",
       "      <th>...</th>\n",
       "      <td>...</td>\n",
       "      <td>...</td>\n",
       "      <td>...</td>\n",
       "      <td>...</td>\n",
       "      <td>...</td>\n",
       "      <td>...</td>\n",
       "    </tr>\n",
       "    <tr>\n",
       "      <th>192</th>\n",
       "      <td>2021-04-07</td>\n",
       "      <td>2249.68</td>\n",
       "      <td>1289861</td>\n",
       "      <td>2226.13</td>\n",
       "      <td>2255.00</td>\n",
       "      <td>2225.33</td>\n",
       "    </tr>\n",
       "    <tr>\n",
       "      <th>191</th>\n",
       "      <td>2021-04-08</td>\n",
       "      <td>2265.44</td>\n",
       "      <td>1358259</td>\n",
       "      <td>2277.96</td>\n",
       "      <td>2284.01</td>\n",
       "      <td>2257.68</td>\n",
       "    </tr>\n",
       "    <tr>\n",
       "      <th>190</th>\n",
       "      <td>2021-04-09</td>\n",
       "      <td>2285.88</td>\n",
       "      <td>1044365</td>\n",
       "      <td>2256.70</td>\n",
       "      <td>2289.04</td>\n",
       "      <td>2253.71</td>\n",
       "    </tr>\n",
       "    <tr>\n",
       "      <th>189</th>\n",
       "      <td>2021-04-12</td>\n",
       "      <td>2254.79</td>\n",
       "      <td>1565851</td>\n",
       "      <td>2266.25</td>\n",
       "      <td>2275.32</td>\n",
       "      <td>2238.47</td>\n",
       "    </tr>\n",
       "    <tr>\n",
       "      <th>188</th>\n",
       "      <td>2021-04-13</td>\n",
       "      <td>2267.27</td>\n",
       "      <td>1165804</td>\n",
       "      <td>2261.47</td>\n",
       "      <td>2277.21</td>\n",
       "      <td>2256.09</td>\n",
       "    </tr>\n",
       "  </tbody>\n",
       "</table>\n",
       "<p>1774 rows × 6 columns</p>\n",
       "</div>"
      ],
      "text/plain": [
       "           Date  Close/Last   Volume     Open     High      Low\n",
       "1209 2014-03-27      558.46    13052   568.00   568.00   552.92\n",
       "1208 2014-03-28      559.99    41003   561.20   566.43   558.67\n",
       "1207 2014-03-31      556.97    10772   566.89   567.00   556.93\n",
       "1206 2014-04-01      567.16     7932   558.71   568.45   558.71\n",
       "1205 2014-04-02      567.00   146697   599.99   604.83   562.19\n",
       "...         ...         ...      ...      ...      ...      ...\n",
       "192  2021-04-07     2249.68  1289861  2226.13  2255.00  2225.33\n",
       "191  2021-04-08     2265.44  1358259  2277.96  2284.01  2257.68\n",
       "190  2021-04-09     2285.88  1044365  2256.70  2289.04  2253.71\n",
       "189  2021-04-12     2254.79  1565851  2266.25  2275.32  2238.47\n",
       "188  2021-04-13     2267.27  1165804  2261.47  2277.21  2256.09\n",
       "\n",
       "[1774 rows x 6 columns]"
      ]
     },
     "execution_count": 28,
     "metadata": {},
     "output_type": "execute_result"
    }
   ],
   "source": [
    "df_o = df_o.sort_values('Date')\n",
    "df_o"
   ]
  },
  {
   "cell_type": "code",
   "execution_count": 29,
   "metadata": {},
   "outputs": [],
   "source": [
    "def correct_date():\n",
    "    while True:\n",
    "        try:\n",
    "            input_string = input()\n",
    "            if '' == input_string:\n",
    "                print('Введена пустая строка')\n",
    "                continue        \n",
    "            date = pd.to_datetime(input_string, dayfirst = True, yearfirst = False)\n",
    "            \n",
    "            return date\n",
    "            break\n",
    "        except :\n",
    "            print('Дата введена некорректно')"
   ]
  },
  {
   "cell_type": "code",
   "execution_count": 30,
   "metadata": {},
   "outputs": [],
   "source": [
    "#date = pd.to_datetime('12.04.12')\n",
    "#print(date)\n",
    "#date.strftime('%d.%m.%Y')\n"
   ]
  },
  {
   "cell_type": "code",
   "execution_count": 31,
   "metadata": {},
   "outputs": [
    {
     "name": "stdout",
     "output_type": "stream",
     "text": [
      "13.05.15\n",
      "Дата 1: 13.05.2015\n"
     ]
    }
   ],
   "source": [
    "date_one = correct_date()\n",
    "print('Дата 1: '+ date_one.strftime('%d.%m.%Y'))"
   ]
  },
  {
   "cell_type": "code",
   "execution_count": 32,
   "metadata": {},
   "outputs": [
    {
     "name": "stdout",
     "output_type": "stream",
     "text": [
      "01.01.18\n",
      "Дата 2 :01.01.2018\n"
     ]
    }
   ],
   "source": [
    "date_two = correct_date()\n",
    "print('Дата 2 :'+ str(date_two.strftime('%d.%m.%Y')))"
   ]
  },
  {
   "cell_type": "code",
   "execution_count": 33,
   "metadata": {},
   "outputs": [
    {
     "name": "stdout",
     "output_type": "stream",
     "text": [
      "2015-05-13 00:00:00 2018-01-01 00:00:00\n"
     ]
    }
   ],
   "source": [
    "if (date_one > date_two):\n",
    "    date_one, date_two = date_two, date_one\n",
    "print(date_one, date_two)"
   ]
  },
  {
   "cell_type": "code",
   "execution_count": 34,
   "metadata": {
    "scrolled": true
   },
   "outputs": [
    {
     "name": "stdout",
     "output_type": "stream",
     "text": [
      "           Date  Close/Last   Volume     Open     High      Low\n",
      "1757 2015-05-14      538.40  1401005   533.77   539.00   532.41\n",
      "1756 2015-05-15      533.85  1965088   539.18   539.27   530.38\n",
      "1755 2015-05-18      532.30  2001117   532.01   534.82   528.85\n",
      "1754 2015-05-19      537.36  1964037   533.98   540.66   533.04\n",
      "1753 2015-05-20      539.27  1430565   538.49   542.92   532.97\n",
      "...         ...         ...      ...      ...      ...      ...\n",
      "76   2017-12-22     1060.12   755089  1061.11  1064.20  1059.44\n",
      "75   2017-12-26     1056.74   761097  1058.07  1060.12  1050.20\n",
      "74   2017-12-27     1049.37  1271780  1057.39  1058.37  1048.05\n",
      "73   2017-12-28     1048.14   833011  1051.60  1054.75  1044.77\n",
      "72   2017-12-29     1046.40   886845  1046.72  1049.70  1044.90\n",
      "\n",
      "[664 rows x 6 columns]\n"
     ]
    }
   ],
   "source": [
    "segment = df_o[(date_one < df_o['Date']) & (df_o['Date'] < date_two)]\n",
    "print(segment)"
   ]
  },
  {
   "cell_type": "code",
   "execution_count": 35,
   "metadata": {},
   "outputs": [
    {
     "data": {
      "image/png": "[encoded data removed]",
      "text/plain": [
       "<Figure size 720x432 with 1 Axes>"
      ]
     },
     "metadata": {
      "needs_background": "light"
     },
     "output_type": "display_data"
    }
   ],
   "source": [
    "fig, ax = plt.subplots()\n",
    "\n",
    "ax.plot( segment['Date'],segment['Close/Last'], color='k', linewidth = 0.5)\n",
    "\n",
    "fig.set_figwidth(10)\n",
    "fig.set_figheight(6)\n",
    "\n",
    "plt.xlabel(\"Date\", fontsize=16)\n",
    "plt.ylabel(\"$\", fontsize=16)\n",
    "plt.show()"
   ]
  }
 ],
 "metadata": {
  "kernelspec": {
   "display_name": "Python 3",
   "language": "python",
   "name": "python3"
  },
  "language_info": {
   "codemirror_mode": {
    "name": "ipython",
    "version": 3
   },
   "file_extension": ".py",
   "mimetype": "text/x-python",
   "name": "python",
   "nbconvert_exporter": "python",
   "pygments_lexer": "ipython3",
   "version": "3.7.4"
  }
 },
 "nbformat": 4,
 "nbformat_minor": 4
}
